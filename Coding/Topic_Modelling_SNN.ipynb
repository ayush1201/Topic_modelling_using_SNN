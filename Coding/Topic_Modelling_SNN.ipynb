{
  "cells": [
    {
      "cell_type": "markdown",
      "metadata": {
        "id": "ayOKuFXEOMCy"
      },
      "source": [
        "# **Machine Learning Based Topic Recognition For Researchers**"
      ]
    },
    {
      "cell_type": "markdown",
      "metadata": {
        "id": "47Mxd5R1WU05"
      },
      "source": [
        "##Importing Libraries"
      ]
    },
    {
      "cell_type": "code",
      "execution_count": null,
      "metadata": {
        "id": "73cGIMpbfMOG"
      },
      "outputs": [],
      "source": [
        "# panda lib used for data computation\n",
        "import pandas as pd\n",
        "import matplotlib.pyplot as plt\n",
        "# plot graph\n",
        "%matplotlib inline\n",
        "plt.style.use('seaborn-whitegrid')\n",
        "import xgboost as xgb\n",
        "import gc\n",
        "from tqdm import tqdm\n",
        "# progress bar\n",
        "from sklearn.svm import SVC\n",
        "# clustering algo to automatically assume parameter\n",
        "from keras.models import Sequential\n",
        "from keras.layers.recurrent import LSTM, GRU\n",
        "# keras: open source lib to provide ai neural network\n",
        "# long short term memmory used in predict future value based on previous(time stmped)\n",
        "# sequence precting,less complex than lstm\n",
        "from keras.layers.core import Dense, Activation, Dropout\n",
        "from keras.layers.embeddings import Embedding\n",
        "# layer used in nlp lang model\n",
        "from tensorflow.keras.layers import (\n",
        "    BatchNormalization, SeparableConv2D, MaxPooling2D, Activation, Flatten, Dropout, Dense\n",
        ")\n",
        "from keras.utils import np_utils\n",
        "# used to convert label data array in vector\n",
        "from sklearn import preprocessing, decomposition, model_selection, metrics, pipeline\n",
        "\n",
        "from sklearn.feature_extraction.text import TfidfVectorizer, CountVectorizer\n",
        "# tfidvectorizer: transform text to feature vector,convert to countable vector\n",
        "from sklearn.decomposition import TruncatedSVD\n",
        "# generarte matrix with specific num of col\n",
        "from sklearn.model_selection import train_test_split, StratifiedKFold, GridSearchCV\n",
        "# variation of k fold returns stratified fold\n",
        "from sklearn.metrics import accuracy_score, f1_score,classification_report\n",
        "from sklearn.model_selection import KFold, train_test_split\n",
        "from sklearn.multiclass import OneVsRestClassifier\n",
        "from sklearn.linear_model import LogisticRegression\n",
        "from sklearn.tree import DecisionTreeClassifier\n",
        "from sklearn.naive_bayes import GaussianNB,MultinomialNB\n",
        "\n",
        "from lightgbm import LGBMRegressor\n",
        "# grading boosting frmwrk to reduce memory space and increase efficency\n",
        "from IPython.core.interactiveshell import InteractiveShell\n",
        "InteractiveShell.ast_node_interactivity = \"all\"\n",
        "import warnings\n",
        "\n",
        "warnings.simplefilter('ignore')\n",
        "from keras.layers import GlobalMaxPooling1D, Conv1D, MaxPooling1D, Flatten, Bidirectional, SpatialDropout1D\n",
        "# breakdown of big value in small val\n",
        "from keras.preprocessing import sequence, text\n",
        "from keras.callbacks import EarlyStopping\n",
        "# stop training when  monitered matrix ha stopped improving\n",
        "from nltk import word_tokenize\n",
        "# nltk: natral lan tool kit used for nlp\n",
        "# work_tokenize: split sentence to word\n",
        "from nltk.corpus import stopwords\n",
        "# top 40 words which are not relevant for prediction(e.g a,an the etc)\n",
        "from nltk.stem.snowball import SnowballStemmer\n",
        "# string processing lan for creating steeming algo(process of reducing inflrtion of word to there root form such as maping of group of word to same stem even if stem is not valid word)\n"
      ]
    },
    {
      "cell_type": "code",
      "execution_count": null,
      "metadata": {
        "colab": {
          "base_uri": "https://localhost:8080/"
        },
        "id": "-CTvQ1_hgY6E",
        "outputId": "6a9e3fcf-4161-47a8-bcb6-a4821614cc71"
      },
      "outputs": [
        {
          "name": "stderr",
          "output_type": "stream",
          "text": [
            "[nltk_data] Downloading package stopwords to /root/nltk_data...\n",
            "[nltk_data]   Unzipping corpora/stopwords.zip.\n"
          ]
        },
        {
          "data": {
            "text/plain": [
              "True"
            ]
          },
          "execution_count": 2,
          "metadata": {},
          "output_type": "execute_result"
        }
      ],
      "source": [
        "import nltk\n",
        "nltk.download('stopwords')\n",
        "# download stop words a,an the etc"
      ]
    },
    {
      "cell_type": "code",
      "execution_count": null,
      "metadata": {
        "colab": {
          "base_uri": "https://localhost:8080/"
        },
        "id": "fTWl0E-7gHdI",
        "outputId": "358436dd-65ef-4a41-b808-c0f5e6c38141"
      },
      "outputs": [
        {
          "name": "stdout",
          "output_type": "stream",
          "text": [
            "Looking in indexes: https://pypi.org/simple, https://us-python.pkg.dev/colab-wheels/public/simple/\n",
            "Collecting Unidecode\n",
            "  Downloading Unidecode-1.3.4-py3-none-any.whl (235 kB)\n",
            "\u001b[K     |████████████████████████████████| 235 kB 5.5 MB/s \n",
            "\u001b[?25hInstalling collected packages: Unidecode\n",
            "Successfully installed Unidecode-1.3.4\n"
          ]
        }
      ],
      "source": [
        "stop_words = stopwords.words('english')\n",
        "import seaborn as sns\n",
        "# data vizulization lib based on matplot lib\n",
        "import string\n",
        "!pip install Unidecode\n",
        "# better result compared to directly char\n",
        "import re\n",
        "# regular expression,specify strings that match it"
      ]
    },
    {
      "cell_type": "code",
      "execution_count": null,
      "metadata": {
        "colab": {
          "base_uri": "https://localhost:8080/"
        },
        "id": "7eEfG8mcpnpr",
        "outputId": "6266e492-757c-4e99-9863-4c5c6ac46ea4"
      },
      "outputs": [
        {
          "name": "stdout",
          "output_type": "stream",
          "text": [
            "Looking in indexes: https://pypi.org/simple, https://us-python.pkg.dev/colab-wheels/public/simple/\n",
            "Collecting scikit-multilearn\n",
            "  Downloading scikit_multilearn-0.2.0-py3-none-any.whl (89 kB)\n",
            "\u001b[K     |████████████████████████████████| 89 kB 3.8 MB/s \n",
            "\u001b[?25hInstalling collected packages: scikit-multilearn\n",
            "Successfully installed scikit-multilearn-0.2.0\n"
          ]
        }
      ],
      "source": [
        "!pip install scikit-multilearn\n",
        "# multi labeled classification"
      ]
    },
    {
      "cell_type": "code",
      "execution_count": null,
      "metadata": {
        "id": "8VBWaH3Ki64f"
      },
      "outputs": [],
      "source": [
        "from skmultilearn.problem_transform import LabelPowerset # initialize label powerset multi-label classifier\n",
        "%matplotlib inline"
      ]
    },
    {
      "cell_type": "markdown",
      "metadata": {
        "id": "RUVgFfg7W35f"
      },
      "source": [
        "## Importing datasets"
      ]
    },
    {
      "cell_type": "code",
      "execution_count": null,
      "metadata": {
        "id": "ycSGPUA4psCe"
      },
      "outputs": [],
      "source": [
        "import os\n",
        "# to interact with underlined os"
      ]
    },
    {
      "cell_type": "code",
      "execution_count": null,
      "metadata": {
        "colab": {
          "base_uri": "https://localhost:8080/",
          "height": 73,
          "resources": {
            "http://localhost:8080/nbextensions/google.colab/files.js": {
              "data": "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",
              "headers": [
                [
                  "content-type",
                  "application/javascript"
                ]
              ],
              "ok": true,
              "status": 200,
              "status_text": ""
            }
          }
        },
        "id": "aYgDPugdvIni",
        "outputId": "d9faa2a9-402c-4bc5-8ce7-615add517637"
      },
      "outputs": [
        {
          "data": {
            "text/html": [
              "\n",
              "     <input type=\"file\" id=\"files-e4af7950-6f0f-4c85-9108-fec29952171c\" name=\"files[]\" multiple disabled\n",
              "        style=\"border:none\" />\n",
              "     <output id=\"result-e4af7950-6f0f-4c85-9108-fec29952171c\">\n",
              "      Upload widget is only available when the cell has been executed in the\n",
              "      current browser session. Please rerun this cell to enable.\n",
              "      </output>\n",
              "      <script src=\"/nbextensions/google.colab/files.js\"></script> "
            ],
            "text/plain": [
              "<IPython.core.display.HTML object>"
            ]
          },
          "metadata": {},
          "output_type": "display_data"
        },
        {
          "name": "stdout",
          "output_type": "stream",
          "text": [
            "Saving Test.csv to Test.csv\n"
          ]
        }
      ],
      "source": [
        "from google.colab import files\n",
        "uploaded = files.upload()\n",
        "# upload file from user side for training and testing purpose(main dataset)"
      ]
    },
    {
      "cell_type": "code",
      "execution_count": null,
      "metadata": {
        "id": "SQZRTaYkvUx0"
      },
      "outputs": [],
      "source": [
        "import io\n",
        "# input output operartion\n",
        "test = pd.read_csv(io.BytesIO(uploaded['Test.csv']))\n",
        "# read test data"
      ]
    },
    {
      "cell_type": "code",
      "execution_count": null,
      "metadata": {
        "colab": {
          "base_uri": "https://localhost:8080/",
          "height": 73,
          "resources": {
            "http://localhost:8080/nbextensions/google.colab/files.js": {
              "data": "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",
              "headers": [
                [
                  "content-type",
                  "application/javascript"
                ]
              ],
              "ok": true,
              "status": 200,
              "status_text": ""
            }
          }
        },
        "id": "hcOK-8lav7gx",
        "outputId": "aa48f73c-6b7a-4844-9b4d-f3f81cd3c217"
      },
      "outputs": [
        {
          "data": {
            "text/html": [
              "\n",
              "     <input type=\"file\" id=\"files-67cd8070-19f2-4990-b714-54a8f265c860\" name=\"files[]\" multiple disabled\n",
              "        style=\"border:none\" />\n",
              "     <output id=\"result-67cd8070-19f2-4990-b714-54a8f265c860\">\n",
              "      Upload widget is only available when the cell has been executed in the\n",
              "      current browser session. Please rerun this cell to enable.\n",
              "      </output>\n",
              "      <script src=\"/nbextensions/google.colab/files.js\"></script> "
            ],
            "text/plain": [
              "<IPython.core.display.HTML object>"
            ]
          },
          "metadata": {},
          "output_type": "display_data"
        },
        {
          "name": "stdout",
          "output_type": "stream",
          "text": [
            "Saving Train.csv to Train.csv\n"
          ]
        }
      ],
      "source": [
        "from google.colab import files\n",
        "# uploading training data\n",
        "uploaded = files.upload()"
      ]
    },
    {
      "cell_type": "code",
      "execution_count": null,
      "metadata": {
        "id": "ZrdmjsUlwDMq"
      },
      "outputs": [],
      "source": [
        "import io\n",
        "train = pd.read_csv(io.BytesIO(uploaded['Train.csv']))\n",
        "# reading training data"
      ]
    },
    {
      "cell_type": "code",
      "execution_count": null,
      "metadata": {
        "colab": {
          "base_uri": "https://localhost:8080/",
          "height": 73,
          "resources": {
            "http://localhost:8080/nbextensions/google.colab/files.js": {
              "data": "Ly8gQ29weXJpZ2h0IDIwMTcgR29vZ2xlIExMQwovLwovLyBMaWNlbnNlZCB1bmRlciB0aGUgQXBhY2hlIExpY2Vuc2UsIFZlcnNpb24gMi4wICh0aGUgIkxpY2Vuc2UiKTsKLy8geW91IG1heSBub3QgdXNlIHRoaXMgZmlsZSBleGNlcHQgaW4gY29tcGxpYW5jZSB3aXRoIHRoZSBMaWNlbnNlLgovLyBZb3UgbWF5IG9idGFpbiBhIGNvcHkgb2YgdGhlIExpY2Vuc2UgYXQKLy8KLy8gICAgICBodHRwOi8vd3d3LmFwYWNoZS5vcmcvbGljZW5zZXMvTElDRU5TRS0yLjAKLy8KLy8gVW5sZXNzIHJlcXVpcmVkIGJ5IGFwcGxpY2FibGUgbGF3IG9yIGFncmVlZCB0byBpbiB3cml0aW5nLCBzb2Z0d2FyZQovLyBkaXN0cmlidXRlZCB1bmRlciB0aGUgTGljZW5zZSBpcyBkaXN0cmlidXRlZCBvbiBhbiAiQVMgSVMiIEJBU0lTLAovLyBXSVRIT1VUIFdBUlJBTlRJRVMgT1IgQ09ORElUSU9OUyBPRiBBTlkgS0lORCwgZWl0aGVyIGV4cHJlc3Mgb3IgaW1wbGllZC4KLy8gU2VlIHRoZSBMaWNlbnNlIGZvciB0aGUgc3BlY2lmaWMgbGFuZ3VhZ2UgZ292ZXJuaW5nIHBlcm1pc3Npb25zIGFuZAovLyBsaW1pdGF0aW9ucyB1bmRlciB0aGUgTGljZW5zZS4KCi8qKgogKiBAZmlsZW92ZXJ2aWV3IEhlbHBlcnMgZm9yIGdvb2dsZS5jb2xhYiBQeXRob24gbW9kdWxlLgogKi8KKGZ1bmN0aW9uKHNjb3BlKSB7CmZ1bmN0aW9uIHNwYW4odGV4dCwgc3R5bGVBdHRyaWJ1dGVzID0ge30pIHsKICBjb25zdCBlbGVtZW50ID0gZG9jdW1lbnQuY3JlYXRlRWxlbWVudCgnc3BhbicpOwogIGVsZW1lbnQudGV4dENvbnRlbnQgPSB0ZXh0OwogIGZvciAoY29uc3Qga2V5IG9mIE9iamVjdC5rZXlzKHN0eWxlQXR0cmlidXRlcykpIHsKICAgIGVsZW1lbnQuc3R5bGVba2V5XSA9IHN0eWxlQXR0cmlidXRlc1trZXldOwogIH0KICByZXR1cm4gZWxlbWVudDsKfQoKLy8gTWF4IG51bWJlciBvZiBieXRlcyB3aGljaCB3aWxsIGJlIHVwbG9hZGVkIGF0IGEgdGltZS4KY29uc3QgTUFYX1BBWUxPQURfU0laRSA9IDEwMCAqIDEwMjQ7CgpmdW5jdGlvbiBfdXBsb2FkRmlsZXMoaW5wdXRJZCwgb3V0cHV0SWQpIHsKICBjb25zdCBzdGVwcyA9IHVwbG9hZEZpbGVzU3RlcChpbnB1dElkLCBvdXRwdXRJZCk7CiAgY29uc3Qgb3V0cHV0RWxlbWVudCA9IGRvY3VtZW50LmdldEVsZW1lbnRCeUlkKG91dHB1dElkKTsKICAvLyBDYWNoZSBzdGVwcyBvbiB0aGUgb3V0cHV0RWxlbWVudCB0byBtYWtlIGl0IGF2YWlsYWJsZSBmb3IgdGhlIG5leHQgY2FsbAogIC8vIHRvIHVwbG9hZEZpbGVzQ29udGludWUgZnJvbSBQeXRob24uCiAgb3V0cHV0RWxlbWVudC5zdGVwcyA9IHN0ZXBzOwoKICByZXR1cm4gX3VwbG9hZEZpbGVzQ29udGludWUob3V0cHV0SWQpOwp9CgovLyBUaGlzIGlzIHJvdWdobHkgYW4gYXN5bmMgZ2VuZXJhdG9yIChub3Qgc3VwcG9ydGVkIGluIHRoZSBicm93c2VyIHlldCksCi8vIHdoZXJlIHRoZXJlIGFyZSBtdWx0aXBsZSBhc3luY2hyb25vdXMgc3RlcHMgYW5kIHRoZSBQeXRob24gc2lkZSBpcyBnb2luZwovLyB0byBwb2xsIGZvciBjb21wbGV0aW9uIG9mIGVhY2ggc3RlcC4KLy8gVGhpcyB1c2VzIGEgUHJvbWlzZSB0byBibG9jayB0aGUgcHl0aG9uIHNpZGUgb24gY29tcGxldGlvbiBvZiBlYWNoIHN0ZXAsCi8vIHRoZW4gcGFzc2VzIHRoZSByZXN1bHQgb2YgdGhlIHByZXZpb3VzIHN0ZXAgYXMgdGhlIGlucHV0IHRvIHRoZSBuZXh0IHN0ZXAuCmZ1bmN0aW9uIF91cGxvYWRGaWxlc0NvbnRpbnVlKG91dHB1dElkKSB7CiAgY29uc3Qgb3V0cHV0RWxlbWVudCA9IGRvY3VtZW50LmdldEVsZW1lbnRCeUlkKG91dHB1dElkKTsKICBjb25zdCBzdGVwcyA9IG91dHB1dEVsZW1lbnQuc3RlcHM7CgogIGNvbnN0IG5leHQgPSBzdGVwcy5uZXh0KG91dHB1dEVsZW1lbnQubGFzdFByb21pc2VWYWx1ZSk7CiAgcmV0dXJuIFByb21pc2UucmVzb2x2ZShuZXh0LnZhbHVlLnByb21pc2UpLnRoZW4oKHZhbHVlKSA9PiB7CiAgICAvLyBDYWNoZSB0aGUgbGFzdCBwcm9taXNlIHZhbHVlIHRvIG1ha2UgaXQgYXZhaWxhYmxlIHRvIHRoZSBuZXh0CiAgICAvLyBzdGVwIG9mIHRoZSBnZW5lcmF0b3IuCiAgICBvdXRwdXRFbGVtZW50Lmxhc3RQcm9taXNlVmFsdWUgPSB2YWx1ZTsKICAgIHJldHVybiBuZXh0LnZhbHVlLnJlc3BvbnNlOwogIH0pOwp9CgovKioKICogR2VuZXJhdG9yIGZ1bmN0aW9uIHdoaWNoIGlzIGNhbGxlZCBiZXR3ZWVuIGVhY2ggYXN5bmMgc3RlcCBvZiB0aGUgdXBsb2FkCiAqIHByb2Nlc3MuCiAqIEBwYXJhbSB7c3RyaW5nfSBpbnB1dElkIEVsZW1lbnQgSUQgb2YgdGhlIGlucHV0IGZpbGUgcGlja2VyIGVsZW1lbnQuCiAqIEBwYXJhbSB7c3RyaW5nfSBvdXRwdXRJZCBFbGVtZW50IElEIG9mIHRoZSBvdXRwdXQgZGlzcGxheS4KICogQHJldHVybiB7IUl0ZXJhYmxlPCFPYmplY3Q+fSBJdGVyYWJsZSBvZiBuZXh0IHN0ZXBzLgogKi8KZnVuY3Rpb24qIHVwbG9hZEZpbGVzU3RlcChpbnB1dElkLCBvdXRwdXRJZCkgewogIGNvbnN0IGlucHV0RWxlbWVudCA9IGRvY3VtZW50LmdldEVsZW1lbnRCeUlkKGlucHV0SWQpOwogIGlucHV0RWxlbWVudC5kaXNhYmxlZCA9IGZhbHNlOwoKICBjb25zdCBvdXRwdXRFbGVtZW50ID0gZG9jdW1lbnQuZ2V0RWxlbWVudEJ5SWQob3V0cHV0SWQpOwogIG91dHB1dEVsZW1lbnQuaW5uZXJIVE1MID0gJyc7CgogIGNvbnN0IHBpY2tlZFByb21pc2UgPSBuZXcgUHJvbWlzZSgocmVzb2x2ZSkgPT4gewogICAgaW5wdXRFbGVtZW50LmFkZEV2ZW50TGlzdGVuZXIoJ2NoYW5nZScsIChlKSA9PiB7CiAgICAgIHJlc29sdmUoZS50YXJnZXQuZmlsZXMpOwogICAgfSk7CiAgfSk7CgogIGNvbnN0IGNhbmNlbCA9IGRvY3VtZW50LmNyZWF0ZUVsZW1lbnQoJ2J1dHRvbicpOwogIGlucHV0RWxlbWVudC5wYXJlbnRFbGVtZW50LmFwcGVuZENoaWxkKGNhbmNlbCk7CiAgY2FuY2VsLnRleHRDb250ZW50ID0gJ0NhbmNlbCB1cGxvYWQnOwogIGNvbnN0IGNhbmNlbFByb21pc2UgPSBuZXcgUHJvbWlzZSgocmVzb2x2ZSkgPT4gewogICAgY2FuY2VsLm9uY2xpY2sgPSAoKSA9PiB7CiAgICAgIHJlc29sdmUobnVsbCk7CiAgICB9OwogIH0pOwoKICAvLyBXYWl0IGZvciB0aGUgdXNlciB0byBwaWNrIHRoZSBmaWxlcy4KICBjb25zdCBmaWxlcyA9IHlpZWxkIHsKICAgIHByb21pc2U6IFByb21pc2UucmFjZShbcGlja2VkUHJvbWlzZSwgY2FuY2VsUHJvbWlzZV0pLAogICAgcmVzcG9uc2U6IHsKICAgICAgYWN0aW9uOiAnc3RhcnRpbmcnLAogICAgfQogIH07CgogIGNhbmNlbC5yZW1vdmUoKTsKCiAgLy8gRGlzYWJsZSB0aGUgaW5wdXQgZWxlbWVudCBzaW5jZSBmdXJ0aGVyIHBpY2tzIGFyZSBub3QgYWxsb3dlZC4KICBpbnB1dEVsZW1lbnQuZGlzYWJsZWQgPSB0cnVlOwoKICBpZiAoIWZpbGVzKSB7CiAgICByZXR1cm4gewogICAgICByZXNwb25zZTogewogICAgICAgIGFjdGlvbjogJ2NvbXBsZXRlJywKICAgICAgfQogICAgfTsKICB9CgogIGZvciAoY29uc3QgZmlsZSBvZiBmaWxlcykgewogICAgY29uc3QgbGkgPSBkb2N1bWVudC5jcmVhdGVFbGVtZW50KCdsaScpOwogICAgbGkuYXBwZW5kKHNwYW4oZmlsZS5uYW1lLCB7Zm9udFdlaWdodDogJ2JvbGQnfSkpOwogICAgbGkuYXBwZW5kKHNwYW4oCiAgICAgICAgYCgke2ZpbGUudHlwZSB8fCAnbi9hJ30pIC0gJHtmaWxlLnNpemV9IGJ5dGVzLCBgICsKICAgICAgICBgbGFzdCBtb2RpZmllZDogJHsKICAgICAgICAgICAgZmlsZS5sYXN0TW9kaWZpZWREYXRlID8gZmlsZS5sYXN0TW9kaWZpZWREYXRlLnRvTG9jYWxlRGF0ZVN0cmluZygpIDoKICAgICAgICAgICAgICAgICAgICAgICAgICAgICAgICAgICAgJ24vYSd9IC0gYCkpOwogICAgY29uc3QgcGVyY2VudCA9IHNwYW4oJzAlIGRvbmUnKTsKICAgIGxpLmFwcGVuZENoaWxkKHBlcmNlbnQpOwoKICAgIG91dHB1dEVsZW1lbnQuYXBwZW5kQ2hpbGQobGkpOwoKICAgIGNvbnN0IGZpbGVEYXRhUHJvbWlzZSA9IG5ldyBQcm9taXNlKChyZXNvbHZlKSA9PiB7CiAgICAgIGNvbnN0IHJlYWRlciA9IG5ldyBGaWxlUmVhZGVyKCk7CiAgICAgIHJlYWRlci5vbmxvYWQgPSAoZSkgPT4gewogICAgICAgIHJlc29sdmUoZS50YXJnZXQucmVzdWx0KTsKICAgICAgfTsKICAgICAgcmVhZGVyLnJlYWRBc0FycmF5QnVmZmVyKGZpbGUpOwogICAgfSk7CiAgICAvLyBXYWl0IGZvciB0aGUgZGF0YSB0byBiZSByZWFkeS4KICAgIGxldCBmaWxlRGF0YSA9IHlpZWxkIHsKICAgICAgcHJvbWlzZTogZmlsZURhdGFQcm9taXNlLAogICAgICByZXNwb25zZTogewogICAgICAgIGFjdGlvbjogJ2NvbnRpbnVlJywKICAgICAgfQogICAgfTsKCiAgICAvLyBVc2UgYSBjaHVua2VkIHNlbmRpbmcgdG8gYXZvaWQgbWVzc2FnZSBzaXplIGxpbWl0cy4gU2VlIGIvNjIxMTU2NjAuCiAgICBsZXQgcG9zaXRpb24gPSAwOwogICAgZG8gewogICAgICBjb25zdCBsZW5ndGggPSBNYXRoLm1pbihmaWxlRGF0YS5ieXRlTGVuZ3RoIC0gcG9zaXRpb24sIE1BWF9QQVlMT0FEX1NJWkUpOwogICAgICBjb25zdCBjaHVuayA9IG5ldyBVaW50OEFycmF5KGZpbGVEYXRhLCBwb3NpdGlvbiwgbGVuZ3RoKTsKICAgICAgcG9zaXRpb24gKz0gbGVuZ3RoOwoKICAgICAgY29uc3QgYmFzZTY0ID0gYnRvYShTdHJpbmcuZnJvbUNoYXJDb2RlLmFwcGx5KG51bGwsIGNodW5rKSk7CiAgICAgIHlpZWxkIHsKICAgICAgICByZXNwb25zZTogewogICAgICAgICAgYWN0aW9uOiAnYXBwZW5kJywKICAgICAgICAgIGZpbGU6IGZpbGUubmFtZSwKICAgICAgICAgIGRhdGE6IGJhc2U2NCwKICAgICAgICB9LAogICAgICB9OwoKICAgICAgbGV0IHBlcmNlbnREb25lID0gZmlsZURhdGEuYnl0ZUxlbmd0aCA9PT0gMCA/CiAgICAgICAgICAxMDAgOgogICAgICAgICAgTWF0aC5yb3VuZCgocG9zaXRpb24gLyBmaWxlRGF0YS5ieXRlTGVuZ3RoKSAqIDEwMCk7CiAgICAgIHBlcmNlbnQudGV4dENvbnRlbnQgPSBgJHtwZXJjZW50RG9uZX0lIGRvbmVgOwoKICAgIH0gd2hpbGUgKHBvc2l0aW9uIDwgZmlsZURhdGEuYnl0ZUxlbmd0aCk7CiAgfQoKICAvLyBBbGwgZG9uZS4KICB5aWVsZCB7CiAgICByZXNwb25zZTogewogICAgICBhY3Rpb246ICdjb21wbGV0ZScsCiAgICB9CiAgfTsKfQoKc2NvcGUuZ29vZ2xlID0gc2NvcGUuZ29vZ2xlIHx8IHt9OwpzY29wZS5nb29nbGUuY29sYWIgPSBzY29wZS5nb29nbGUuY29sYWIgfHwge307CnNjb3BlLmdvb2dsZS5jb2xhYi5fZmlsZXMgPSB7CiAgX3VwbG9hZEZpbGVzLAogIF91cGxvYWRGaWxlc0NvbnRpbnVlLAp9Owp9KShzZWxmKTsK",
              "headers": [
                [
                  "content-type",
                  "application/javascript"
                ]
              ],
              "ok": true,
              "status": 200,
              "status_text": ""
            }
          }
        },
        "id": "5dxyczTexojy",
        "outputId": "a128de5b-786f-472b-c8c5-97db3a95d4ab"
      },
      "outputs": [
        {
          "data": {
            "text/html": [
              "\n",
              "     <input type=\"file\" id=\"files-34daea9f-8b48-49f8-acb6-b80b24299e47\" name=\"files[]\" multiple disabled\n",
              "        style=\"border:none\" />\n",
              "     <output id=\"result-34daea9f-8b48-49f8-acb6-b80b24299e47\">\n",
              "      Upload widget is only available when the cell has been executed in the\n",
              "      current browser session. Please rerun this cell to enable.\n",
              "      </output>\n",
              "      <script src=\"/nbextensions/google.colab/files.js\"></script> "
            ],
            "text/plain": [
              "<IPython.core.display.HTML object>"
            ]
          },
          "metadata": {},
          "output_type": "display_data"
        },
        {
          "name": "stdout",
          "output_type": "stream",
          "text": [
            "Saving Tags.csv to Tags.csv\n"
          ]
        }
      ],
      "source": [
        "from google.colab import files\n",
        "# uploading tags file e.g labels \n",
        "uploaded = files.upload()"
      ]
    },
    {
      "cell_type": "code",
      "execution_count": null,
      "metadata": {
        "id": "1FMi4EKmxqrf"
      },
      "outputs": [],
      "source": [
        "import io\n",
        "tag = pd.read_csv(io.BytesIO(uploaded['Tags.csv']))\n",
        "# reading tags data"
      ]
    },
    {
      "cell_type": "code",
      "execution_count": null,
      "metadata": {
        "colab": {
          "base_uri": "https://localhost:8080/",
          "height": 73,
          "resources": {
            "http://localhost:8080/nbextensions/google.colab/files.js": {
              "data": "Ly8gQ29weXJpZ2h0IDIwMTcgR29vZ2xlIExMQwovLwovLyBMaWNlbnNlZCB1bmRlciB0aGUgQXBhY2hlIExpY2Vuc2UsIFZlcnNpb24gMi4wICh0aGUgIkxpY2Vuc2UiKTsKLy8geW91IG1heSBub3QgdXNlIHRoaXMgZmlsZSBleGNlcHQgaW4gY29tcGxpYW5jZSB3aXRoIHRoZSBMaWNlbnNlLgovLyBZb3UgbWF5IG9idGFpbiBhIGNvcHkgb2YgdGhlIExpY2Vuc2UgYXQKLy8KLy8gICAgICBodHRwOi8vd3d3LmFwYWNoZS5vcmcvbGljZW5zZXMvTElDRU5TRS0yLjAKLy8KLy8gVW5sZXNzIHJlcXVpcmVkIGJ5IGFwcGxpY2FibGUgbGF3IG9yIGFncmVlZCB0byBpbiB3cml0aW5nLCBzb2Z0d2FyZQovLyBkaXN0cmlidXRlZCB1bmRlciB0aGUgTGljZW5zZSBpcyBkaXN0cmlidXRlZCBvbiBhbiAiQVMgSVMiIEJBU0lTLAovLyBXSVRIT1VUIFdBUlJBTlRJRVMgT1IgQ09ORElUSU9OUyBPRiBBTlkgS0lORCwgZWl0aGVyIGV4cHJlc3Mgb3IgaW1wbGllZC4KLy8gU2VlIHRoZSBMaWNlbnNlIGZvciB0aGUgc3BlY2lmaWMgbGFuZ3VhZ2UgZ292ZXJuaW5nIHBlcm1pc3Npb25zIGFuZAovLyBsaW1pdGF0aW9ucyB1bmRlciB0aGUgTGljZW5zZS4KCi8qKgogKiBAZmlsZW92ZXJ2aWV3IEhlbHBlcnMgZm9yIGdvb2dsZS5jb2xhYiBQeXRob24gbW9kdWxlLgogKi8KKGZ1bmN0aW9uKHNjb3BlKSB7CmZ1bmN0aW9uIHNwYW4odGV4dCwgc3R5bGVBdHRyaWJ1dGVzID0ge30pIHsKICBjb25zdCBlbGVtZW50ID0gZG9jdW1lbnQuY3JlYXRlRWxlbWVudCgnc3BhbicpOwogIGVsZW1lbnQudGV4dENvbnRlbnQgPSB0ZXh0OwogIGZvciAoY29uc3Qga2V5IG9mIE9iamVjdC5rZXlzKHN0eWxlQXR0cmlidXRlcykpIHsKICAgIGVsZW1lbnQuc3R5bGVba2V5XSA9IHN0eWxlQXR0cmlidXRlc1trZXldOwogIH0KICByZXR1cm4gZWxlbWVudDsKfQoKLy8gTWF4IG51bWJlciBvZiBieXRlcyB3aGljaCB3aWxsIGJlIHVwbG9hZGVkIGF0IGEgdGltZS4KY29uc3QgTUFYX1BBWUxPQURfU0laRSA9IDEwMCAqIDEwMjQ7CgpmdW5jdGlvbiBfdXBsb2FkRmlsZXMoaW5wdXRJZCwgb3V0cHV0SWQpIHsKICBjb25zdCBzdGVwcyA9IHVwbG9hZEZpbGVzU3RlcChpbnB1dElkLCBvdXRwdXRJZCk7CiAgY29uc3Qgb3V0cHV0RWxlbWVudCA9IGRvY3VtZW50LmdldEVsZW1lbnRCeUlkKG91dHB1dElkKTsKICAvLyBDYWNoZSBzdGVwcyBvbiB0aGUgb3V0cHV0RWxlbWVudCB0byBtYWtlIGl0IGF2YWlsYWJsZSBmb3IgdGhlIG5leHQgY2FsbAogIC8vIHRvIHVwbG9hZEZpbGVzQ29udGludWUgZnJvbSBQeXRob24uCiAgb3V0cHV0RWxlbWVudC5zdGVwcyA9IHN0ZXBzOwoKICByZXR1cm4gX3VwbG9hZEZpbGVzQ29udGludWUob3V0cHV0SWQpOwp9CgovLyBUaGlzIGlzIHJvdWdobHkgYW4gYXN5bmMgZ2VuZXJhdG9yIChub3Qgc3VwcG9ydGVkIGluIHRoZSBicm93c2VyIHlldCksCi8vIHdoZXJlIHRoZXJlIGFyZSBtdWx0aXBsZSBhc3luY2hyb25vdXMgc3RlcHMgYW5kIHRoZSBQeXRob24gc2lkZSBpcyBnb2luZwovLyB0byBwb2xsIGZvciBjb21wbGV0aW9uIG9mIGVhY2ggc3RlcC4KLy8gVGhpcyB1c2VzIGEgUHJvbWlzZSB0byBibG9jayB0aGUgcHl0aG9uIHNpZGUgb24gY29tcGxldGlvbiBvZiBlYWNoIHN0ZXAsCi8vIHRoZW4gcGFzc2VzIHRoZSByZXN1bHQgb2YgdGhlIHByZXZpb3VzIHN0ZXAgYXMgdGhlIGlucHV0IHRvIHRoZSBuZXh0IHN0ZXAuCmZ1bmN0aW9uIF91cGxvYWRGaWxlc0NvbnRpbnVlKG91dHB1dElkKSB7CiAgY29uc3Qgb3V0cHV0RWxlbWVudCA9IGRvY3VtZW50LmdldEVsZW1lbnRCeUlkKG91dHB1dElkKTsKICBjb25zdCBzdGVwcyA9IG91dHB1dEVsZW1lbnQuc3RlcHM7CgogIGNvbnN0IG5leHQgPSBzdGVwcy5uZXh0KG91dHB1dEVsZW1lbnQubGFzdFByb21pc2VWYWx1ZSk7CiAgcmV0dXJuIFByb21pc2UucmVzb2x2ZShuZXh0LnZhbHVlLnByb21pc2UpLnRoZW4oKHZhbHVlKSA9PiB7CiAgICAvLyBDYWNoZSB0aGUgbGFzdCBwcm9taXNlIHZhbHVlIHRvIG1ha2UgaXQgYXZhaWxhYmxlIHRvIHRoZSBuZXh0CiAgICAvLyBzdGVwIG9mIHRoZSBnZW5lcmF0b3IuCiAgICBvdXRwdXRFbGVtZW50Lmxhc3RQcm9taXNlVmFsdWUgPSB2YWx1ZTsKICAgIHJldHVybiBuZXh0LnZhbHVlLnJlc3BvbnNlOwogIH0pOwp9CgovKioKICogR2VuZXJhdG9yIGZ1bmN0aW9uIHdoaWNoIGlzIGNhbGxlZCBiZXR3ZWVuIGVhY2ggYXN5bmMgc3RlcCBvZiB0aGUgdXBsb2FkCiAqIHByb2Nlc3MuCiAqIEBwYXJhbSB7c3RyaW5nfSBpbnB1dElkIEVsZW1lbnQgSUQgb2YgdGhlIGlucHV0IGZpbGUgcGlja2VyIGVsZW1lbnQuCiAqIEBwYXJhbSB7c3RyaW5nfSBvdXRwdXRJZCBFbGVtZW50IElEIG9mIHRoZSBvdXRwdXQgZGlzcGxheS4KICogQHJldHVybiB7IUl0ZXJhYmxlPCFPYmplY3Q+fSBJdGVyYWJsZSBvZiBuZXh0IHN0ZXBzLgogKi8KZnVuY3Rpb24qIHVwbG9hZEZpbGVzU3RlcChpbnB1dElkLCBvdXRwdXRJZCkgewogIGNvbnN0IGlucHV0RWxlbWVudCA9IGRvY3VtZW50LmdldEVsZW1lbnRCeUlkKGlucHV0SWQpOwogIGlucHV0RWxlbWVudC5kaXNhYmxlZCA9IGZhbHNlOwoKICBjb25zdCBvdXRwdXRFbGVtZW50ID0gZG9jdW1lbnQuZ2V0RWxlbWVudEJ5SWQob3V0cHV0SWQpOwogIG91dHB1dEVsZW1lbnQuaW5uZXJIVE1MID0gJyc7CgogIGNvbnN0IHBpY2tlZFByb21pc2UgPSBuZXcgUHJvbWlzZSgocmVzb2x2ZSkgPT4gewogICAgaW5wdXRFbGVtZW50LmFkZEV2ZW50TGlzdGVuZXIoJ2NoYW5nZScsIChlKSA9PiB7CiAgICAgIHJlc29sdmUoZS50YXJnZXQuZmlsZXMpOwogICAgfSk7CiAgfSk7CgogIGNvbnN0IGNhbmNlbCA9IGRvY3VtZW50LmNyZWF0ZUVsZW1lbnQoJ2J1dHRvbicpOwogIGlucHV0RWxlbWVudC5wYXJlbnRFbGVtZW50LmFwcGVuZENoaWxkKGNhbmNlbCk7CiAgY2FuY2VsLnRleHRDb250ZW50ID0gJ0NhbmNlbCB1cGxvYWQnOwogIGNvbnN0IGNhbmNlbFByb21pc2UgPSBuZXcgUHJvbWlzZSgocmVzb2x2ZSkgPT4gewogICAgY2FuY2VsLm9uY2xpY2sgPSAoKSA9PiB7CiAgICAgIHJlc29sdmUobnVsbCk7CiAgICB9OwogIH0pOwoKICAvLyBXYWl0IGZvciB0aGUgdXNlciB0byBwaWNrIHRoZSBmaWxlcy4KICBjb25zdCBmaWxlcyA9IHlpZWxkIHsKICAgIHByb21pc2U6IFByb21pc2UucmFjZShbcGlja2VkUHJvbWlzZSwgY2FuY2VsUHJvbWlzZV0pLAogICAgcmVzcG9uc2U6IHsKICAgICAgYWN0aW9uOiAnc3RhcnRpbmcnLAogICAgfQogIH07CgogIGNhbmNlbC5yZW1vdmUoKTsKCiAgLy8gRGlzYWJsZSB0aGUgaW5wdXQgZWxlbWVudCBzaW5jZSBmdXJ0aGVyIHBpY2tzIGFyZSBub3QgYWxsb3dlZC4KICBpbnB1dEVsZW1lbnQuZGlzYWJsZWQgPSB0cnVlOwoKICBpZiAoIWZpbGVzKSB7CiAgICByZXR1cm4gewogICAgICByZXNwb25zZTogewogICAgICAgIGFjdGlvbjogJ2NvbXBsZXRlJywKICAgICAgfQogICAgfTsKICB9CgogIGZvciAoY29uc3QgZmlsZSBvZiBmaWxlcykgewogICAgY29uc3QgbGkgPSBkb2N1bWVudC5jcmVhdGVFbGVtZW50KCdsaScpOwogICAgbGkuYXBwZW5kKHNwYW4oZmlsZS5uYW1lLCB7Zm9udFdlaWdodDogJ2JvbGQnfSkpOwogICAgbGkuYXBwZW5kKHNwYW4oCiAgICAgICAgYCgke2ZpbGUudHlwZSB8fCAnbi9hJ30pIC0gJHtmaWxlLnNpemV9IGJ5dGVzLCBgICsKICAgICAgICBgbGFzdCBtb2RpZmllZDogJHsKICAgICAgICAgICAgZmlsZS5sYXN0TW9kaWZpZWREYXRlID8gZmlsZS5sYXN0TW9kaWZpZWREYXRlLnRvTG9jYWxlRGF0ZVN0cmluZygpIDoKICAgICAgICAgICAgICAgICAgICAgICAgICAgICAgICAgICAgJ24vYSd9IC0gYCkpOwogICAgY29uc3QgcGVyY2VudCA9IHNwYW4oJzAlIGRvbmUnKTsKICAgIGxpLmFwcGVuZENoaWxkKHBlcmNlbnQpOwoKICAgIG91dHB1dEVsZW1lbnQuYXBwZW5kQ2hpbGQobGkpOwoKICAgIGNvbnN0IGZpbGVEYXRhUHJvbWlzZSA9IG5ldyBQcm9taXNlKChyZXNvbHZlKSA9PiB7CiAgICAgIGNvbnN0IHJlYWRlciA9IG5ldyBGaWxlUmVhZGVyKCk7CiAgICAgIHJlYWRlci5vbmxvYWQgPSAoZSkgPT4gewogICAgICAgIHJlc29sdmUoZS50YXJnZXQucmVzdWx0KTsKICAgICAgfTsKICAgICAgcmVhZGVyLnJlYWRBc0FycmF5QnVmZmVyKGZpbGUpOwogICAgfSk7CiAgICAvLyBXYWl0IGZvciB0aGUgZGF0YSB0byBiZSByZWFkeS4KICAgIGxldCBmaWxlRGF0YSA9IHlpZWxkIHsKICAgICAgcHJvbWlzZTogZmlsZURhdGFQcm9taXNlLAogICAgICByZXNwb25zZTogewogICAgICAgIGFjdGlvbjogJ2NvbnRpbnVlJywKICAgICAgfQogICAgfTsKCiAgICAvLyBVc2UgYSBjaHVua2VkIHNlbmRpbmcgdG8gYXZvaWQgbWVzc2FnZSBzaXplIGxpbWl0cy4gU2VlIGIvNjIxMTU2NjAuCiAgICBsZXQgcG9zaXRpb24gPSAwOwogICAgZG8gewogICAgICBjb25zdCBsZW5ndGggPSBNYXRoLm1pbihmaWxlRGF0YS5ieXRlTGVuZ3RoIC0gcG9zaXRpb24sIE1BWF9QQVlMT0FEX1NJWkUpOwogICAgICBjb25zdCBjaHVuayA9IG5ldyBVaW50OEFycmF5KGZpbGVEYXRhLCBwb3NpdGlvbiwgbGVuZ3RoKTsKICAgICAgcG9zaXRpb24gKz0gbGVuZ3RoOwoKICAgICAgY29uc3QgYmFzZTY0ID0gYnRvYShTdHJpbmcuZnJvbUNoYXJDb2RlLmFwcGx5KG51bGwsIGNodW5rKSk7CiAgICAgIHlpZWxkIHsKICAgICAgICByZXNwb25zZTogewogICAgICAgICAgYWN0aW9uOiAnYXBwZW5kJywKICAgICAgICAgIGZpbGU6IGZpbGUubmFtZSwKICAgICAgICAgIGRhdGE6IGJhc2U2NCwKICAgICAgICB9LAogICAgICB9OwoKICAgICAgbGV0IHBlcmNlbnREb25lID0gZmlsZURhdGEuYnl0ZUxlbmd0aCA9PT0gMCA/CiAgICAgICAgICAxMDAgOgogICAgICAgICAgTWF0aC5yb3VuZCgocG9zaXRpb24gLyBmaWxlRGF0YS5ieXRlTGVuZ3RoKSAqIDEwMCk7CiAgICAgIHBlcmNlbnQudGV4dENvbnRlbnQgPSBgJHtwZXJjZW50RG9uZX0lIGRvbmVgOwoKICAgIH0gd2hpbGUgKHBvc2l0aW9uIDwgZmlsZURhdGEuYnl0ZUxlbmd0aCk7CiAgfQoKICAvLyBBbGwgZG9uZS4KICB5aWVsZCB7CiAgICByZXNwb25zZTogewogICAgICBhY3Rpb246ICdjb21wbGV0ZScsCiAgICB9CiAgfTsKfQoKc2NvcGUuZ29vZ2xlID0gc2NvcGUuZ29vZ2xlIHx8IHt9OwpzY29wZS5nb29nbGUuY29sYWIgPSBzY29wZS5nb29nbGUuY29sYWIgfHwge307CnNjb3BlLmdvb2dsZS5jb2xhYi5fZmlsZXMgPSB7CiAgX3VwbG9hZEZpbGVzLAogIF91cGxvYWRGaWxlc0NvbnRpbnVlLAp9Owp9KShzZWxmKTsK",
              "headers": [
                [
                  "content-type",
                  "application/javascript"
                ]
              ],
              "ok": true,
              "status": 200,
              "status_text": ""
            }
          }
        },
        "id": "CDR6BWfAxvhw",
        "outputId": "b707bd49-f129-4015-8176-0097641a1ad6"
      },
      "outputs": [
        {
          "data": {
            "text/html": [
              "\n",
              "     <input type=\"file\" id=\"files-adcd0979-6b87-45ad-a2cb-321a7dba156f\" name=\"files[]\" multiple disabled\n",
              "        style=\"border:none\" />\n",
              "     <output id=\"result-adcd0979-6b87-45ad-a2cb-321a7dba156f\">\n",
              "      Upload widget is only available when the cell has been executed in the\n",
              "      current browser session. Please rerun this cell to enable.\n",
              "      </output>\n",
              "      <script src=\"/nbextensions/google.colab/files.js\"></script> "
            ],
            "text/plain": [
              "<IPython.core.display.HTML object>"
            ]
          },
          "metadata": {},
          "output_type": "display_data"
        },
        {
          "name": "stdout",
          "output_type": "stream",
          "text": [
            "Saving sample_sub.csv to sample_sub.csv\n"
          ]
        }
      ],
      "source": [
        "from google.colab import files\n",
        "uploaded = files.upload()"
      ]
    },
    {
      "cell_type": "code",
      "execution_count": null,
      "metadata": {
        "id": "8KXWLP5lx5kn"
      },
      "outputs": [],
      "source": [
        "import io\n",
        "ss = pd.read_csv(io.BytesIO(uploaded['sample_sub.csv']))"
      ]
    },
    {
      "cell_type": "markdown",
      "metadata": {
        "id": "cQotsAw5ZIUv"
      },
      "source": [
        "## Implementation"
      ]
    },
    {
      "cell_type": "code",
      "execution_count": null,
      "metadata": {
        "colab": {
          "base_uri": "https://localhost:8080/"
        },
        "id": "3YgfiT2fyONO",
        "outputId": "c9333096-c2db-43b8-9fc7-102a4491f431"
      },
      "outputs": [
        {
          "name": "stdout",
          "output_type": "stream",
          "text": [
            "<class 'pandas.core.frame.DataFrame'>\n",
            "RangeIndex: 14004 entries, 0 to 14003\n",
            "Data columns (total 31 columns):\n",
            " #   Column                                        Non-Null Count  Dtype \n",
            "---  ------                                        --------------  ----- \n",
            " 0   id                                            14004 non-null  int64 \n",
            " 1   ABSTRACT                                      14004 non-null  object\n",
            " 2   Computer Science                              14004 non-null  int64 \n",
            " 3   Mathematics                                   14004 non-null  int64 \n",
            " 4   Physics                                       14004 non-null  int64 \n",
            " 5   Statistics                                    14004 non-null  int64 \n",
            " 6   Analysis of PDEs                              14004 non-null  int64 \n",
            " 7   Applications                                  14004 non-null  int64 \n",
            " 8   Artificial Intelligence                       14004 non-null  int64 \n",
            " 9   Astrophysics of Galaxies                      14004 non-null  int64 \n",
            " 10  Computation and Language                      14004 non-null  int64 \n",
            " 11  Computer Vision and Pattern Recognition       14004 non-null  int64 \n",
            " 12  Cosmology and Nongalactic Astrophysics        14004 non-null  int64 \n",
            " 13  Data Structures and Algorithms                14004 non-null  int64 \n",
            " 14  Differential Geometry                         14004 non-null  int64 \n",
            " 15  Earth and Planetary Astrophysics              14004 non-null  int64 \n",
            " 16  Fluid Dynamics                                14004 non-null  int64 \n",
            " 17  Information Theory                            14004 non-null  int64 \n",
            " 18  Instrumentation and Methods for Astrophysics  14004 non-null  int64 \n",
            " 19  Machine Learning                              14004 non-null  int64 \n",
            " 20  Materials Science                             14004 non-null  int64 \n",
            " 21  Methodology                                   14004 non-null  int64 \n",
            " 22  Number Theory                                 14004 non-null  int64 \n",
            " 23  Optimization and Control                      14004 non-null  int64 \n",
            " 24  Representation Theory                         14004 non-null  int64 \n",
            " 25  Robotics                                      14004 non-null  int64 \n",
            " 26  Social and Information Networks               14004 non-null  int64 \n",
            " 27  Statistics Theory                             14004 non-null  int64 \n",
            " 28  Strongly Correlated Electrons                 14004 non-null  int64 \n",
            " 29  Superconductivity                             14004 non-null  int64 \n",
            " 30  Systems and Control                           14004 non-null  int64 \n",
            "dtypes: int64(30), object(1)\n",
            "memory usage: 3.3+ MB\n"
          ]
        }
      ],
      "source": [
        "#Display all the columns of the train dataset\n",
        "# our result willbe among these topics only\n",
        "train.info()"
      ]
    },
    {
      "cell_type": "code",
      "execution_count": null,
      "metadata": {
        "id": "Kh4CG7q6yT8f"
      },
      "outputs": [],
      "source": [
        "#We divided the columns into TARGET_COLS and TOPIC_COLS  \n",
        "# do tabel hai ,maintabele (topic_cols hai aur uska subtopics taget_cols hai)\n",
        "ID_COL = 'id'\n",
        "\n",
        "TARGET_COLS = ['Analysis of PDEs', 'Applications',\n",
        "               'Artificial Intelligence', 'Astrophysics of Galaxies',\n",
        "               'Computation and Language', 'Computer Vision and Pattern Recognition',\n",
        "               'Cosmology and Nongalactic Astrophysics',\n",
        "               'Data Structures and Algorithms', 'Differential Geometry',\n",
        "               'Earth and Planetary Astrophysics', 'Fluid Dynamics',\n",
        "               'Information Theory', 'Instrumentation and Methods for Astrophysics',\n",
        "               'Machine Learning', 'Materials Science', 'Methodology', 'Number Theory',\n",
        "               'Optimization and Control', 'Representation Theory', 'Robotics',\n",
        "               'Social and Information Networks', 'Statistics Theory',\n",
        "               'Strongly Correlated Electrons', 'Superconductivity',\n",
        "               'Systems and Control']\n",
        "#The research article abstracts are sourced from the following 4 topics\n",
        "TOPIC_COLS = ['Computer Science', 'Mathematics', 'Physics', 'Statistics']"
      ]
    },
    {
      "cell_type": "code",
      "execution_count": null,
      "metadata": {
        "colab": {
          "base_uri": "https://localhost:8080/"
        },
        "id": "7igcfMmGyX7j",
        "outputId": "afe1835b-7d39-4e23-be5c-b8dd921b1d4b"
      },
      "outputs": [
        {
          "data": {
            "text/plain": [
              "Computer Science    5884\n",
              "Physics             3856\n",
              "Statistics          3794\n",
              "Mathematics         2831\n",
              "dtype: int64"
            ]
          },
          "execution_count": 17,
          "metadata": {},
          "output_type": "execute_result"
        }
      ],
      "source": [
        "#Sorting in descending order according to values corresponding to topics \n",
        "train[TOPIC_COLS].sum().sort_values(ascending=False)\n",
        "# hm jo pargraph denge usme yeh har word pe jaiega aur group krega ki woh word kis topic se related hai lis cs,math,physics etc, jo aur number count hoke woh decending order me arrange ho jaega like agar work ml bahut baar aa rha tog cs topuc aa jaega"
      ]
    },
    {
      "cell_type": "code",
      "execution_count": null,
      "metadata": {
        "colab": {
          "base_uri": "https://localhost:8080/"
        },
        "id": "-3uTGKyBybT4",
        "outputId": "937d0224-0dc7-471a-e1fa-64e1675eccc0"
      },
      "outputs": [
        {
          "data": {
            "text/plain": [
              "Machine Learning                                27.313625\n",
              "Artificial Intelligence                          9.825764\n",
              "Robotics                                         6.812339\n",
              "Computer Vision and Pattern Recognition          6.705227\n",
              "Strongly Correlated Electrons                    6.376750\n",
              "Materials Science                                5.534133\n",
              "Computation and Language                         4.605827\n",
              "Cosmology and Nongalactic Astrophysics           4.520137\n",
              "Optimization and Control                         4.434447\n",
              "Social and Information Networks                  4.420166\n",
              "Analysis of PDEs                                 4.334476\n",
              "Applications                                     4.227364\n",
              "Astrophysics of Galaxies                         4.098829\n",
              "Methodology                                      4.098829\n",
              "Systems and Control                              4.041702\n",
              "Differential Geometry                            3.963153\n",
              "Superconductivity                                3.870323\n",
              "Statistics Theory                                3.791774\n",
              "Earth and Planetary Astrophysics                 3.598972\n",
              "Data Structures and Algorithms                   3.541845\n",
              "Instrumentation and Methods for Astrophysics     3.499000\n",
              "Number Theory                                    2.842045\n",
              "Representation Theory                            2.613539\n",
              "Fluid Dynamics                                   2.599257\n",
              "Information Theory                               2.520708\n",
              "dtype: float64"
            ]
          },
          "execution_count": 18,
          "metadata": {},
          "output_type": "execute_result"
        }
      ],
      "source": [
        "100 * (train[TARGET_COLS].sum()/(train.shape[0])).sort_values(ascending=False)\n",
        "# ab manno hme pta chl gya ki computer science topic se related topic hai phir abb woh cs ke andar ke sub topics ko serach krega aur most closed topic output laake dega"
      ]
    },
    {
      "cell_type": "markdown",
      "metadata": {
        "id": "R0md_yx0yrnH"
      },
      "source": [
        "## **1] Using Count Vectorizer** \n",
        "It is used to transform a given text into a vector on the basis of the frequency (count) of each word that occurs in the entire text. It creates a matrix in which each unique word is represented by a column of the matrix, and each text sample from the document is a row in the matrix. The value of each cell is nothing but the count of the word in that particular text sample. "
      ]
    },
    {
      "cell_type": "code",
      "execution_count": null,
      "metadata": {
        "colab": {
          "base_uri": "https://localhost:8080/"
        },
        "id": "W2iU_BPbyimy",
        "outputId": "b0c3f9af-b709-471f-98f2-a3aa8299d6d1"
      },
      "outputs": [
        {
          "data": {
            "text/plain": [
              "CountVectorizer(max_features=10000)"
            ]
          },
          "execution_count": 19,
          "metadata": {},
          "output_type": "execute_result"
        }
      ],
      "source": [
        "vec = CountVectorizer(max_features=10000)\n",
        "combined = list(train['ABSTRACT']) + list(test['ABSTRACT'])\n",
        "vec.fit(combined)"
      ]
    },
    {
      "cell_type": "code",
      "execution_count": null,
      "metadata": {
        "id": "Ct2md4B2yqHW"
      },
      "outputs": [],
      "source": [
        "trn, val = train_test_split(train, test_size=0.2, random_state=2)"
      ]
    },
    {
      "cell_type": "code",
      "execution_count": null,
      "metadata": {
        "colab": {
          "base_uri": "https://localhost:8080/"
        },
        "id": "Ulk9SOiAyytm",
        "outputId": "5d8a0b27-8632-4fb3-f298-94bb7897a922"
      },
      "outputs": [
        {
          "data": {
            "text/plain": [
              "<11203x10000 sparse matrix of type '<class 'numpy.int64'>'\n",
              "\twith 1033404 stored elements in Compressed Sparse Row format>"
            ]
          },
          "execution_count": 21,
          "metadata": {},
          "output_type": "execute_result"
        }
      ],
      "source": [
        "trn_abs = vec.transform(trn['ABSTRACT'])\n",
        "val_abs = vec.transform(val['ABSTRACT'])\n",
        "tst_abs = vec.transform(test['ABSTRACT'])\n",
        "\n",
        "trn_abs"
      ]
    },
    {
      "cell_type": "code",
      "execution_count": null,
      "metadata": {
        "colab": {
          "base_uri": "https://localhost:8080/"
        },
        "id": "uSFfTjkwy1RU",
        "outputId": "71180096-b7e2-4ee0-a356-4b80966a612d"
      },
      "outputs": [
        {
          "data": {
            "text/plain": [
              "['00',\n",
              " '000',\n",
              " '0001',\n",
              " '001',\n",
              " '005',\n",
              " '01',\n",
              " '02',\n",
              " '03',\n",
              " '04',\n",
              " '05',\n",
              " '06',\n",
              " '07',\n",
              " '08',\n",
              " '09',\n",
              " '10',\n",
              " '100',\n",
              " '1000',\n",
              " '101',\n",
              " '102',\n",
              " '10x',\n",
              " '11',\n",
              " '110',\n",
              " '111',\n",
              " '112',\n",
              " '115',\n",
              " '118',\n",
              " '12',\n",
              " '120',\n",
              " '128',\n",
              " '13',\n",
              " '130',\n",
              " '14',\n",
              " '140',\n",
              " '15',\n",
              " '150',\n",
              " '1500',\n",
              " '16',\n",
              " '160',\n",
              " '17',\n",
              " '170',\n",
              " '18',\n",
              " '180',\n",
              " '19',\n",
              " '1977',\n",
              " '1986',\n",
              " '1991',\n",
              " '1994',\n",
              " '1995',\n",
              " '1996',\n",
              " '1997',\n",
              " '1998',\n",
              " '1999',\n",
              " '1d',\n",
              " '1t',\n",
              " '20',\n",
              " '200',\n",
              " '2000',\n",
              " '2001',\n",
              " '2002',\n",
              " '2003',\n",
              " '2004',\n",
              " '2005',\n",
              " '2006',\n",
              " '2007',\n",
              " '2008',\n",
              " '2009',\n",
              " '2010',\n",
              " '2011',\n",
              " '2012',\n",
              " '2013',\n",
              " '2014',\n",
              " '2015',\n",
              " '2016',\n",
              " '2017',\n",
              " '2018',\n",
              " '21',\n",
              " '22',\n",
              " '23',\n",
              " '230',\n",
              " '24',\n",
              " '240',\n",
              " '25',\n",
              " '250',\n",
              " '2500',\n",
              " '256',\n",
              " '26',\n",
              " '2600',\n",
              " '27',\n",
              " '28',\n",
              " '29',\n",
              " '2_',\n",
              " '2d',\n",
              " '2g',\n",
              " '2h',\n",
              " '2k',\n",
              " '2m',\n",
              " '2mass',\n",
              " '2n',\n",
              " '2p',\n",
              " '2s',\n",
              " '2x',\n",
              " '30',\n",
              " '300',\n",
              " '3000',\n",
              " '31',\n",
              " '32',\n",
              " '33',\n",
              " '34',\n",
              " '35',\n",
              " '350',\n",
              " '36',\n",
              " '360',\n",
              " '37',\n",
              " '38',\n",
              " '39',\n",
              " '3b',\n",
              " '3d',\n",
              " '3x',\n",
              " '40',\n",
              " '400',\n",
              " '4000',\n",
              " '41',\n",
              " '42',\n",
              " '43',\n",
              " '44',\n",
              " '45',\n",
              " '46',\n",
              " '47',\n",
              " '48',\n",
              " '49',\n",
              " '4d',\n",
              " '4f',\n",
              " '50',\n",
              " '500',\n",
              " '5000',\n",
              " '51',\n",
              " '52',\n",
              " '53',\n",
              " '54',\n",
              " '55',\n",
              " '56',\n",
              " '57',\n",
              " '58',\n",
              " '59',\n",
              " '5d',\n",
              " '5x',\n",
              " '60',\n",
              " '600',\n",
              " '61',\n",
              " '62',\n",
              " '63',\n",
              " '64',\n",
              " '65',\n",
              " '66',\n",
              " '67',\n",
              " '67p',\n",
              " '68',\n",
              " '69',\n",
              " '6d',\n",
              " '6x',\n",
              " '70',\n",
              " '700',\n",
              " '71',\n",
              " '72',\n",
              " '73',\n",
              " '74',\n",
              " '75',\n",
              " '76',\n",
              " '77',\n",
              " '78',\n",
              " '79',\n",
              " '80',\n",
              " '800',\n",
              " '81',\n",
              " '82',\n",
              " '83',\n",
              " '84',\n",
              " '85',\n",
              " '86',\n",
              " '87',\n",
              " '88',\n",
              " '89',\n",
              " '90',\n",
              " '91',\n",
              " '92',\n",
              " '93',\n",
              " '94',\n",
              " '95',\n",
              " '96',\n",
              " '97',\n",
              " '98',\n",
              " '99',\n",
              " '_0',\n",
              " '_1',\n",
              " '_2',\n",
              " '_3',\n",
              " '_4',\n",
              " '_5',\n",
              " '_6',\n",
              " '_7',\n",
              " '_c',\n",
              " '_e',\n",
              " '_f',\n",
              " '_i',\n",
              " '_j',\n",
              " '_k',\n",
              " '_l',\n",
              " '_m',\n",
              " '_n',\n",
              " '_p',\n",
              " '_q',\n",
              " '_x',\n",
              " '_y',\n",
              " 'a3c',\n",
              " 'a_',\n",
              " 'a_1',\n",
              " 'a_i',\n",
              " 'a_n',\n",
              " 'aa',\n",
              " 'ab',\n",
              " 'abc',\n",
              " 'abelian',\n",
              " 'abell',\n",
              " 'aberrations',\n",
              " 'abilities',\n",
              " 'ability',\n",
              " 'ablation',\n",
              " 'able',\n",
              " 'abnormal',\n",
              " 'abnormalities',\n",
              " 'about',\n",
              " 'above',\n",
              " 'abridged',\n",
              " 'abrupt',\n",
              " 'absence',\n",
              " 'absent',\n",
              " 'absolute',\n",
              " 'absolutely',\n",
              " 'absorbed',\n",
              " 'absorber',\n",
              " 'absorbers',\n",
              " 'absorbing',\n",
              " 'absorption',\n",
              " 'abstract',\n",
              " 'abstraction',\n",
              " 'abstractions',\n",
              " 'abstracts',\n",
              " 'abundance',\n",
              " 'abundances',\n",
              " 'abundant',\n",
              " 'ac',\n",
              " 'academic',\n",
              " 'accelerate',\n",
              " 'accelerated',\n",
              " 'accelerates',\n",
              " 'accelerating',\n",
              " 'acceleration',\n",
              " 'accelerations',\n",
              " 'accelerator',\n",
              " 'accept',\n",
              " 'acceptable',\n",
              " 'acceptance',\n",
              " 'accepted',\n",
              " 'access',\n",
              " 'accessed',\n",
              " 'accesses',\n",
              " 'accessibility',\n",
              " 'accessible',\n",
              " 'accessing',\n",
              " 'accident',\n",
              " 'accidental',\n",
              " 'accidents',\n",
              " 'accommodate',\n",
              " 'accommodated',\n",
              " 'accommodates',\n",
              " 'accompanied',\n",
              " 'accompanying',\n",
              " 'accomplish',\n",
              " 'accomplished',\n",
              " 'accordance',\n",
              " 'according',\n",
              " 'accordingly',\n",
              " 'account',\n",
              " 'accounted',\n",
              " 'accounting',\n",
              " 'accounts',\n",
              " 'accrete',\n",
              " 'accreted',\n",
              " 'accreting',\n",
              " 'accretion',\n",
              " 'accumulate',\n",
              " 'accumulated',\n",
              " 'accumulation',\n",
              " 'accuracies',\n",
              " 'accuracy',\n",
              " 'accurate',\n",
              " 'accurately',\n",
              " 'achievable',\n",
              " 'achieve',\n",
              " 'achieved',\n",
              " 'achievement',\n",
              " 'achievements',\n",
              " 'achieves',\n",
              " 'achieving',\n",
              " 'acid',\n",
              " 'acoustic',\n",
              " 'acquire',\n",
              " 'acquired',\n",
              " 'acquires',\n",
              " 'acquiring',\n",
              " 'acquisition',\n",
              " 'across',\n",
              " 'acs',\n",
              " 'act',\n",
              " 'acting',\n",
              " 'action',\n",
              " 'actions',\n",
              " 'activated',\n",
              " 'activation',\n",
              " 'activations',\n",
              " 'active',\n",
              " 'actively',\n",
              " 'activities',\n",
              " 'activity',\n",
              " 'actor',\n",
              " 'actors',\n",
              " 'acts',\n",
              " 'actual',\n",
              " 'actually',\n",
              " 'actuated',\n",
              " 'actuation',\n",
              " 'actuator',\n",
              " 'actuators',\n",
              " 'acute',\n",
              " 'acyclic',\n",
              " 'ad',\n",
              " 'adam',\n",
              " 'adapt',\n",
              " 'adaptation',\n",
              " 'adapted',\n",
              " 'adapting',\n",
              " 'adaptive',\n",
              " 'adaptively',\n",
              " 'adaptivity',\n",
              " 'adapts',\n",
              " 'adc',\n",
              " 'add',\n",
              " 'added',\n",
              " 'adding',\n",
              " 'addition',\n",
              " 'additional',\n",
              " 'additionally',\n",
              " 'additive',\n",
              " 'address',\n",
              " 'addressed',\n",
              " 'addresses',\n",
              " 'addressing',\n",
              " 'adds',\n",
              " 'adequate',\n",
              " 'adequately',\n",
              " 'adiabatic',\n",
              " 'adic',\n",
              " 'adjacency',\n",
              " 'adjacent',\n",
              " 'adjoint',\n",
              " 'adjust',\n",
              " 'adjusted',\n",
              " 'adjusting',\n",
              " 'adjustment',\n",
              " 'adjusts',\n",
              " 'admissible',\n",
              " 'admit',\n",
              " 'admits',\n",
              " 'admitting',\n",
              " 'admm',\n",
              " 'adopt',\n",
              " 'adopted',\n",
              " 'adopting',\n",
              " 'adoption',\n",
              " 'adopts',\n",
              " 'ads',\n",
              " 'adsorption',\n",
              " 'advance',\n",
              " 'advanced',\n",
              " 'advancement',\n",
              " 'advancements',\n",
              " 'advances',\n",
              " 'advancing',\n",
              " 'advantage',\n",
              " 'advantageous',\n",
              " 'advantages',\n",
              " 'advection',\n",
              " 'advent',\n",
              " 'adversarial',\n",
              " 'adversarially',\n",
              " 'adversaries',\n",
              " 'adversary',\n",
              " 'adverse',\n",
              " 'advertisement',\n",
              " 'advertisements',\n",
              " 'advertising',\n",
              " 'advice',\n",
              " 'advocate',\n",
              " 'ae',\n",
              " 'aerial',\n",
              " 'aerosol',\n",
              " 'aes',\n",
              " 'aesthetic',\n",
              " 'af',\n",
              " 'affect',\n",
              " 'affected',\n",
              " 'affecting',\n",
              " 'affective',\n",
              " 'affects',\n",
              " 'affine',\n",
              " 'affinity',\n",
              " 'affordable',\n",
              " 'affordance',\n",
              " 'affordances',\n",
              " 'afm',\n",
              " 'aforementioned',\n",
              " 'after',\n",
              " 'afterwards',\n",
              " 'ag',\n",
              " 'again',\n",
              " 'against',\n",
              " 'agb',\n",
              " 'age',\n",
              " 'aged',\n",
              " 'agency',\n",
              " 'agent',\n",
              " 'agents',\n",
              " 'ages',\n",
              " 'aggregate',\n",
              " 'aggregated',\n",
              " 'aggregates',\n",
              " 'aggregating',\n",
              " 'aggregation',\n",
              " 'aggregator',\n",
              " 'aggressive',\n",
              " 'agile',\n",
              " 'aging',\n",
              " 'agn',\n",
              " 'agnostic',\n",
              " 'agns',\n",
              " 'ago',\n",
              " 'agree',\n",
              " 'agreed',\n",
              " 'agreement',\n",
              " 'agrees',\n",
              " 'ahead',\n",
              " 'ai',\n",
              " 'aic',\n",
              " 'aid',\n",
              " 'aided',\n",
              " 'aim',\n",
              " 'aimed',\n",
              " 'aiming',\n",
              " 'aims',\n",
              " 'air',\n",
              " 'aircraft',\n",
              " 'aka',\n",
              " 'akin',\n",
              " 'al',\n",
              " 'alarm',\n",
              " 'alarms',\n",
              " 'albedo',\n",
              " 'albeit',\n",
              " 'alexnet',\n",
              " 'algebra',\n",
              " 'algebraic',\n",
              " 'algebraically',\n",
              " 'algebras',\n",
              " 'algebroid',\n",
              " 'algorithm',\n",
              " 'algorithmic',\n",
              " 'algorithmically',\n",
              " 'algorithms',\n",
              " 'aliasing',\n",
              " 'alice',\n",
              " 'align',\n",
              " 'aligned',\n",
              " 'aligning',\n",
              " 'alignment',\n",
              " 'alignments',\n",
              " 'alkali',\n",
              " 'all',\n",
              " 'allen',\n",
              " 'alleviate',\n",
              " 'alleviates',\n",
              " 'alleviating',\n",
              " 'allocated',\n",
              " 'allocation',\n",
              " 'allotropes',\n",
              " 'allow',\n",
              " 'allowed',\n",
              " 'allowing',\n",
              " 'allows',\n",
              " 'alloy',\n",
              " 'alloys',\n",
              " 'alma',\n",
              " 'almost',\n",
              " 'alone',\n",
              " 'along',\n",
              " 'alongside',\n",
              " 'alpha',\n",
              " 'alpha_',\n",
              " 'alphabet',\n",
              " 'already',\n",
              " 'also',\n",
              " 'alter',\n",
              " 'altered',\n",
              " 'altering',\n",
              " 'alternate',\n",
              " 'alternating',\n",
              " 'alternative',\n",
              " 'alternatively',\n",
              " 'alternatives',\n",
              " 'alters',\n",
              " 'although',\n",
              " 'altitude',\n",
              " 'altogether',\n",
              " 'always',\n",
              " 'alzheimer',\n",
              " 'am',\n",
              " 'amazon',\n",
              " 'ambient',\n",
              " 'ambiguities',\n",
              " 'ambiguity',\n",
              " 'ambiguous',\n",
              " 'amenable',\n",
              " 'american',\n",
              " 'among',\n",
              " 'amongst',\n",
              " 'amorphous',\n",
              " 'amortized',\n",
              " 'amount',\n",
              " 'amounts',\n",
              " 'amp',\n",
              " 'amplification',\n",
              " 'amplified',\n",
              " 'amplify',\n",
              " 'amplitude',\n",
              " 'amplitudes',\n",
              " 'ampère',\n",
              " 'an',\n",
              " 'anal',\n",
              " 'analog',\n",
              " 'analogies',\n",
              " 'analogous',\n",
              " 'analogs',\n",
              " 'analogue',\n",
              " 'analogues',\n",
              " 'analogy',\n",
              " 'analyse',\n",
              " 'analysed',\n",
              " 'analyses',\n",
              " 'analysing',\n",
              " 'analysis',\n",
              " 'analyst',\n",
              " 'analysts',\n",
              " 'analytic',\n",
              " 'analytical',\n",
              " 'analytically',\n",
              " 'analyticity',\n",
              " 'analytics',\n",
              " 'analyze',\n",
              " 'analyzed',\n",
              " 'analyzes',\n",
              " 'analyzing',\n",
              " 'anatomical',\n",
              " 'anchor',\n",
              " 'ancient',\n",
              " 'ancillary',\n",
              " 'and',\n",
              " 'anderson',\n",
              " 'andreev',\n",
              " 'android',\n",
              " 'angle',\n",
              " 'angles',\n",
              " 'angular',\n",
              " 'animal',\n",
              " 'animals',\n",
              " 'anisotropic',\n",
              " 'anisotropies',\n",
              " 'anisotropy',\n",
              " 'ann',\n",
              " 'annealing',\n",
              " 'annihilation',\n",
              " 'annotate',\n",
              " 'annotated',\n",
              " 'annotating',\n",
              " 'annotation',\n",
              " 'annotations',\n",
              " 'annotator',\n",
              " 'annotators',\n",
              " 'anns',\n",
              " 'annual',\n",
              " 'anomalies',\n",
              " 'anomalous',\n",
              " 'anomalously',\n",
              " 'anomaly',\n",
              " 'anonymization',\n",
              " 'anonymous',\n",
              " 'anosov',\n",
              " 'another',\n",
              " 'ansatz',\n",
              " 'answer',\n",
              " 'answered',\n",
              " 'answering',\n",
              " 'answers',\n",
              " 'ant',\n",
              " 'antenna',\n",
              " 'antennas',\n",
              " 'anti',\n",
              " 'anticipate',\n",
              " 'anticipated',\n",
              " 'antiferromagnet',\n",
              " 'antiferromagnetic',\n",
              " 'antiferromagnetically',\n",
              " 'antiferromagnetism',\n",
              " 'antiferromagnets',\n",
              " 'any',\n",
              " 'anyons',\n",
              " 'anytime',\n",
              " 'anywhere',\n",
              " 'ao',\n",
              " 'aod',\n",
              " 'aoi',\n",
              " 'ap',\n",
              " 'apache',\n",
              " 'apart',\n",
              " 'aperture',\n",
              " 'api',\n",
              " 'app',\n",
              " 'apparent',\n",
              " 'apparently',\n",
              " 'appealing',\n",
              " 'appear',\n",
              " 'appearance',\n",
              " 'appearances',\n",
              " 'appeared',\n",
              " 'appearing',\n",
              " 'appears',\n",
              " 'appendix',\n",
              " 'appl',\n",
              " 'applicability',\n",
              " 'applicable',\n",
              " 'applicants',\n",
              " 'application',\n",
              " 'applications',\n",
              " 'applied',\n",
              " 'applies',\n",
              " 'apply',\n",
              " 'applying',\n",
              " 'appreciable',\n",
              " 'approach',\n",
              " 'approached',\n",
              " 'approaches',\n",
              " 'approaching',\n",
              " 'appropriate',\n",
              " 'appropriately',\n",
              " 'approx',\n",
              " 'approximate',\n",
              " 'approximated',\n",
              " 'approximately',\n",
              " 'approximates',\n",
              " 'approximating',\n",
              " 'approximation',\n",
              " 'approximations',\n",
              " 'apps',\n",
              " 'april',\n",
              " 'aps',\n",
              " 'aqueous',\n",
              " 'ar',\n",
              " 'arabic',\n",
              " 'arbitrarily',\n",
              " 'arbitrary',\n",
              " 'arc',\n",
              " 'archimedean',\n",
              " 'architectural',\n",
              " 'architecture',\n",
              " 'architectures',\n",
              " 'archival',\n",
              " 'archive',\n",
              " 'archives',\n",
              " 'arcmin',\n",
              " 'arcs',\n",
              " 'arcsec',\n",
              " 'arcsecond',\n",
              " 'are',\n",
              " 'area',\n",
              " 'areas',\n",
              " 'argon',\n",
              " 'arguably',\n",
              " 'argue',\n",
              " 'argued',\n",
              " 'argues',\n",
              " 'arguing',\n",
              " 'argument',\n",
              " 'argumentation',\n",
              " 'arguments',\n",
              " 'arise',\n",
              " 'arises',\n",
              " 'arising',\n",
              " 'arithmetic',\n",
              " 'arm',\n",
              " 'armchair',\n",
              " 'armed',\n",
              " 'arms',\n",
              " 'around',\n",
              " 'arpes',\n",
              " 'arranged',\n",
              " 'arrangement',\n",
              " 'arrangements',\n",
              " 'array',\n",
              " 'arrays',\n",
              " 'arrival',\n",
              " 'arrivals',\n",
              " 'arrive',\n",
              " 'arriving',\n",
              " 'art',\n",
              " 'artefacts',\n",
              " 'artery',\n",
              " 'article',\n",
              " 'articles',\n",
              " 'articulated',\n",
              " 'artifact',\n",
              " 'artifacts',\n",
              " 'artificial',\n",
              " 'artificially',\n",
              " 'artin',\n",
              " 'arts',\n",
              " 'arxiv',\n",
              " 'as',\n",
              " 'ascent',\n",
              " 'ascribed',\n",
              " 'ask',\n",
              " 'asked',\n",
              " 'asking',\n",
              " 'asks',\n",
              " 'asp',\n",
              " 'aspect',\n",
              " 'aspects',\n",
              " 'asr',\n",
              " 'assembled',\n",
              " 'assembly',\n",
              " 'assess',\n",
              " 'assessed',\n",
              " 'assessing',\n",
              " 'assessment',\n",
              " 'assessments',\n",
              " 'asset',\n",
              " 'assets',\n",
              " 'assign',\n",
              " 'assigned',\n",
              " 'assigning',\n",
              " 'assignment',\n",
              " 'assignments',\n",
              " 'assigns',\n",
              " 'assimilation',\n",
              " 'assist',\n",
              " 'assistance',\n",
              " 'assistant',\n",
              " 'assisted',\n",
              " 'assistive',\n",
              " 'associate',\n",
              " 'associated',\n",
              " 'associating',\n",
              " 'association',\n",
              " 'associations',\n",
              " 'associative',\n",
              " 'assortativity',\n",
              " 'assume',\n",
              " 'assumed',\n",
              " 'assumes',\n",
              " 'assuming',\n",
              " 'assumption',\n",
              " 'assumptions',\n",
              " 'assurance',\n",
              " 'ast',\n",
              " 'asteroid',\n",
              " 'asteroids',\n",
              " 'astrometric',\n",
              " 'astrometry',\n",
              " 'astronomers',\n",
              " 'astronomical',\n",
              " 'astronomy',\n",
              " 'astrophysical',\n",
              " 'astrophysics',\n",
              " 'asymmetric',\n",
              " 'asymmetries',\n",
              " 'asymmetry',\n",
              " 'asymptotic',\n",
              " 'asymptotically',\n",
              " 'asymptotics',\n",
              " 'asynchronous',\n",
              " 'at',\n",
              " 'atacama',\n",
              " 'atari',\n",
              " 'atlas',\n",
              " 'atmosphere',\n",
              " 'atmospheres',\n",
              " 'atmospheric',\n",
              " 'atom',\n",
              " 'atomic',\n",
              " 'atomically',\n",
              " 'atomistic',\n",
              " 'atoms',\n",
              " 'attached',\n",
              " 'attachment',\n",
              " 'attack',\n",
              " 'attacker',\n",
              " 'attackers',\n",
              " 'attacks',\n",
              " 'attain',\n",
              " 'attainable',\n",
              " 'attained',\n",
              " 'attaining',\n",
              " 'attains',\n",
              " 'attempt',\n",
              " 'attempted',\n",
              " 'attempting',\n",
              " 'attempts',\n",
              " 'attend',\n",
              " 'attention',\n",
              " 'attentional',\n",
              " 'attentions',\n",
              " 'attentive',\n",
              " 'attenuation',\n",
              " 'attitude',\n",
              " 'attitudes',\n",
              " 'attract',\n",
              " 'attracted',\n",
              " 'attracting',\n",
              " 'attraction',\n",
              " 'attractive',\n",
              " 'attractor',\n",
              " 'attractors',\n",
              " 'attribute',\n",
              " 'attributed',\n",
              " 'attributes',\n",
              " 'attribution',\n",
              " 'au',\n",
              " 'auc',\n",
              " 'auction',\n",
              " 'auctions',\n",
              " 'audience',\n",
              " 'audio',\n",
              " 'audit',\n",
              " 'audits',\n",
              " 'augment',\n",
              " 'augmentation',\n",
              " 'augmented',\n",
              " 'augmenting',\n",
              " 'augments',\n",
              " 'auslander',\n",
              " 'authentication',\n",
              " 'author',\n",
              " 'authority',\n",
              " 'authors',\n",
              " 'authorship',\n",
              " 'auto',\n",
              " 'autocorrelation',\n",
              " 'autoencoder',\n",
              " 'autoencoders',\n",
              " 'automata',\n",
              " 'automate',\n",
              " 'automated',\n",
              " 'automatic',\n",
              " 'automatically',\n",
              " 'automating',\n",
              " 'automation',\n",
              " 'automaton',\n",
              " 'automl',\n",
              " 'automorphic',\n",
              " 'automorphism',\n",
              " 'automorphisms',\n",
              " 'automotive',\n",
              " 'autonomous',\n",
              " 'autonomously',\n",
              " 'autonomy',\n",
              " 'autoregressive',\n",
              " 'auxiliary',\n",
              " 'availability',\n",
              " 'available',\n",
              " 'avalanche',\n",
              " 'avalanches',\n",
              " 'avenue',\n",
              " 'avenues',\n",
              " 'average',\n",
              " 'averaged',\n",
              " 'averages',\n",
              " 'averaging',\n",
              " 'averse',\n",
              " 'avoid',\n",
              " 'avoidance',\n",
              " 'avoided',\n",
              " 'avoiding',\n",
              " 'avoids',\n",
              " 'avs',\n",
              " 'aware',\n",
              " 'awareness',\n",
              " 'away',\n",
              " 'ax',\n",
              " 'axes',\n",
              " 'axial',\n",
              " 'axiomatic',\n",
              " 'axioms',\n",
              " 'axion',\n",
              " 'axis',\n",
              " 'axisymmetric',\n",
              " 'azimuthal',\n",
              " 'b_',\n",
              " 'b_1',\n",
              " 'ba',\n",
              " 'babi',\n",
              " 'back',\n",
              " 'backbone',\n",
              " 'background',\n",
              " 'backgrounds',\n",
              " 'backpropagation',\n",
              " 'backward',\n",
              " 'bad',\n",
              " 'bafe',\n",
              " 'bag',\n",
              " 'bagging',\n",
              " 'bags',\n",
              " 'bal',\n",
              " 'balance',\n",
              " 'balanced',\n",
              " 'balances',\n",
              " 'balancing',\n",
              " 'ball',\n",
              " 'ballistic',\n",
              " 'balloon',\n",
              " 'balls',\n",
              " 'banach',\n",
              " 'band',\n",
              " 'bandgap',\n",
              " 'bandit',\n",
              " 'bandits',\n",
              " 'bands',\n",
              " 'bandwidth',\n",
              " 'bang',\n",
              " 'bank',\n",
              " 'bao',\n",
              " 'bar',\n",
              " 'bardeen',\n",
              " 'bare',\n",
              " 'barocaloric',\n",
              " 'barrier',\n",
              " 'barriers',\n",
              " 'bars',\n",
              " 'barycenter',\n",
              " 'baryon',\n",
              " 'baryonic',\n",
              " 'baryons',\n",
              " 'base',\n",
              " 'based',\n",
              " 'baseline',\n",
              " 'baselines',\n",
              " 'bases',\n",
              " 'basic',\n",
              " 'basically',\n",
              " 'basin',\n",
              " 'basis',\n",
              " 'basketball',\n",
              " 'batch',\n",
              " 'batches',\n",
              " 'bath',\n",
              " 'batteries',\n",
              " 'battery',\n",
              " 'baxter',\n",
              " 'bayes',\n",
              " 'bayesian',\n",
              " 'bb',\n",
              " 'bbb',\n",
              " 'bc',\n",
              " 'bcc',\n",
              " 'bci',\n",
              " 'bcs',\n",
              " 'be',\n",
              " 'beacon',\n",
              " 'beam',\n",
              " 'beamforming',\n",
              " 'beaming',\n",
              " 'beams',\n",
              " 'bear',\n",
              " 'bearing',\n",
              " 'beat',\n",
              " 'beats',\n",
              " 'bec',\n",
              " 'became',\n",
              " 'because',\n",
              " 'become',\n",
              " 'becomes',\n",
              " 'becoming',\n",
              " 'bed',\n",
              " 'bedt',\n",
              " ...]"
            ]
          },
          "execution_count": 22,
          "metadata": {},
          "output_type": "execute_result"
        }
      ],
      "source": [
        "vec.get_feature_names()"
      ]
    },
    {
      "cell_type": "code",
      "execution_count": null,
      "metadata": {
        "colab": {
          "base_uri": "https://localhost:8080/"
        },
        "id": "SQgUxMlay4-X",
        "outputId": "1ee85d0a-b45f-42c0-dad0-4ee0fc169108"
      },
      "outputs": [
        {
          "data": {
            "text/plain": [
              "OneVsRestClassifier(estimator=LogisticRegression(C=10, n_jobs=-1))"
            ]
          },
          "execution_count": 23,
          "metadata": {},
          "output_type": "execute_result"
        }
      ],
      "source": [
        "clf = OneVsRestClassifier(LogisticRegression(C = 10, n_jobs=-1))\n",
        "clf.fit(trn_abs, trn[TARGET_COLS])"
      ]
    },
    {
      "cell_type": "code",
      "execution_count": null,
      "metadata": {
        "colab": {
          "base_uri": "https://localhost:8080/"
        },
        "id": "oQgd6ckky9I3",
        "outputId": "34d3e129-d1ff-4012-adbd-1393192de9cf"
      },
      "outputs": [
        {
          "data": {
            "text/plain": [
              "0.623196768609348"
            ]
          },
          "execution_count": 24,
          "metadata": {},
          "output_type": "execute_result"
        }
      ],
      "source": [
        "val_preds = clf.predict(val_abs)\n",
        "f1_score(val[TARGET_COLS], val_preds, average='micro')"
      ]
    },
    {
      "cell_type": "markdown",
      "metadata": {
        "id": "pGQ-15JCzH1K"
      },
      "source": [
        "**2]Using Tfidf Vectorizer** - Term frequency-inverse document frequency is a text vectorizer that transforms the text into a usable vector.\n",
        "\n",
        "\n",
        "*    Term frequency represents every text from the data as a matrix whose rows are the number of documents and columns are the number of distinct terms throughout all documents.\n",
        "*   Inverse document frequency (IDF) is the weight of a term, it aims to reduce the weight of a term if the term’s occurrences are scattered throughout all the documents.\n",
        "\n"
      ]
    },
    {
      "cell_type": "code",
      "execution_count": null,
      "metadata": {
        "colab": {
          "base_uri": "https://localhost:8080/"
        },
        "id": "b5ybfE_gzE4-",
        "outputId": "91ff0229-e2d4-4ffd-932e-a1e0b00a6afe"
      },
      "outputs": [
        {
          "data": {
            "text/plain": [
              "0.6300845429893125"
            ]
          },
          "execution_count": 25,
          "metadata": {},
          "output_type": "execute_result"
        }
      ],
      "source": [
        "vec = TfidfVectorizer(max_features=10000)\n",
        "_ = vec.fit(list(train['ABSTRACT']) + list(test['ABSTRACT']))\n",
        "\n",
        "trn_abs = vec.transform(trn['ABSTRACT'])\n",
        "val_abs = vec.transform(val['ABSTRACT'])\n",
        "tst_abs = vec.transform(test['ABSTRACT'])\n",
        "\n",
        "clf = OneVsRestClassifier(LogisticRegression(C = 10, n_jobs=-1))\n",
        "_ = clf.fit(trn_abs, trn[TARGET_COLS])\n",
        "\n",
        "val_preds = clf.predict(val_abs)\n",
        "f1_score(val[TARGET_COLS], val_preds, average='micro')"
      ]
    },
    {
      "cell_type": "markdown",
      "metadata": {
        "id": "KUs_Odv6GWg5"
      },
      "source": [
        "## **Sequential Neural Network**"
      ]
    },
    {
      "cell_type": "markdown",
      "metadata": {
        "id": "SA0MuURhG0UZ"
      },
      "source": [
        "### Building Corpus"
      ]
    },
    {
      "cell_type": "code",
      "execution_count": null,
      "metadata": {
        "colab": {
          "base_uri": "https://localhost:8080/"
        },
        "id": "_8u2RvkEzLah",
        "outputId": "83cdf3e2-5319-474a-83b5-8343293b93d8"
      },
      "outputs": [
        {
          "data": {
            "text/plain": [
              "Index(['id', 'ABSTRACT', 'Computer Science', 'Mathematics', 'Physics',\n",
              "       'Statistics', 'Analysis of PDEs', 'Applications',\n",
              "       'Artificial Intelligence', 'Astrophysics of Galaxies',\n",
              "       'Computation and Language', 'Computer Vision and Pattern Recognition',\n",
              "       'Cosmology and Nongalactic Astrophysics',\n",
              "       'Data Structures and Algorithms', 'Differential Geometry',\n",
              "       'Earth and Planetary Astrophysics', 'Fluid Dynamics',\n",
              "       'Information Theory', 'Instrumentation and Methods for Astrophysics',\n",
              "       'Machine Learning', 'Materials Science', 'Methodology', 'Number Theory',\n",
              "       'Optimization and Control', 'Representation Theory', 'Robotics',\n",
              "       'Social and Information Networks', 'Statistics Theory',\n",
              "       'Strongly Correlated Electrons', 'Superconductivity',\n",
              "       'Systems and Control', 'text'],\n",
              "      dtype='object')"
            ]
          },
          "execution_count": 26,
          "metadata": {},
          "output_type": "execute_result"
        }
      ],
      "source": [
        "train['text'] = ' '\n",
        "test['text'] = ' '\n",
        "\n",
        "#this is our corpus basically\n",
        "train['text'] += train['ABSTRACT'] \n",
        "test['text'] += test['ABSTRACT']\n",
        "\n",
        "#Splitting the training data into test and train dataset where 20% is used for testing and 80% for training\n",
        "trn, val = train_test_split(train, test_size=0.2, random_state=2)\n",
        "\n",
        "trn.columns"
      ]
    },
    {
      "cell_type": "markdown",
      "metadata": {
        "id": "aFY8KtdHGvsD"
      },
      "source": [
        "### Tokenizing the text"
      ]
    },
    {
      "cell_type": "code",
      "execution_count": null,
      "metadata": {
        "colab": {
          "base_uri": "https://localhost:8080/"
        },
        "id": "IuJOrTIAztPN",
        "outputId": "c032e29f-dce0-4ce7-8031-22c44dda6768"
      },
      "outputs": [
        {
          "data": {
            "text/plain": [
              "51665"
            ]
          },
          "execution_count": 27,
          "metadata": {},
          "output_type": "execute_result"
        }
      ],
      "source": [
        "from keras.preprocessing.text import Tokenizer\n",
        "from keras.preprocessing.sequence import pad_sequences\n",
        "\n",
        "#100000 is the max. no. of words to keep in the tokenized list\n",
        "tok = Tokenizer(num_words = 1000000) \n",
        "tok.fit_on_texts(train['text'].str.lower().tolist() + test['text'].str.lower().tolist()) #updates the internal dictionary based on a list of words\n",
        "\n",
        "vocab_size = len(tok.word_index) + 1\n",
        "vocab_size"
      ]
    },
    {
      "cell_type": "markdown",
      "metadata": {
        "id": "5MTRudLIHURF"
      },
      "source": [
        "### Converting into column vectors"
      ]
    },
    {
      "cell_type": "code",
      "execution_count": null,
      "metadata": {
        "id": "Oe97P5xXzygJ"
      },
      "outputs": [],
      "source": [
        "# For each word in each sentences, converting into column vector and producing the one hot encoding\n",
        "X_trn = tok.texts_to_sequences(trn['text'])\n",
        "X_val = tok.texts_to_sequences(val['text'])\n",
        "X_test = tok.texts_to_sequences(test['text'])"
      ]
    },
    {
      "cell_type": "code",
      "execution_count": null,
      "metadata": {
        "colab": {
          "base_uri": "https://localhost:8080/"
        },
        "id": "8WY3Xub5z3qu",
        "outputId": "92178541-772a-4645-c3ea-71ef6404f74c"
      },
      "outputs": [
        {
          "data": {
            "text/plain": [
              "array([[    0,     0,     0, ...,   280,   965,    53],\n",
              "       [    0,     0,     0, ...,  1278,   423,  4957],\n",
              "       [    1, 10832,    75, ...,     5,  9884,  4154],\n",
              "       ...,\n",
              "       [   36,  1514,    10, ...,    99,   264,  2804],\n",
              "       [    2,  7933,    22, ...,    62,   123,   125],\n",
              "       [    0,     0,     0, ...,   412,  6056,   164]], dtype=int32)"
            ]
          },
          "execution_count": 29,
          "metadata": {},
          "output_type": "execute_result"
        }
      ],
      "source": [
        "maxlen = 200 #maximum length of all sequences(i.e, to what length is each sentence padded upto)\n",
        "X_trn = pad_sequences(X_trn, maxlen=maxlen)\n",
        "X_val = pad_sequences(X_val, maxlen=maxlen)\n",
        "X_test = pad_sequences(X_test, maxlen=maxlen)\n",
        "\n",
        "X_test"
      ]
    },
    {
      "cell_type": "markdown",
      "metadata": {
        "id": "dJ0XInfBIM31"
      },
      "source": [
        "### Creating a **Word Embedding Layer**"
      ]
    },
    {
      "cell_type": "code",
      "execution_count": null,
      "metadata": {
        "colab": {
          "base_uri": "https://localhost:8080/"
        },
        "id": "eE2FbFDiz61c",
        "outputId": "f0dc2666-a15c-49d4-a689-0d5ec80f4423"
      },
      "outputs": [
        {
          "name": "stdout",
          "output_type": "stream",
          "text": [
            "Model: \"sequential\"\n",
            "_________________________________________________________________\n",
            " Layer (type)                Output Shape              Param #   \n",
            "=================================================================\n",
            " embedding (Embedding)       (None, 200, 50)           2583250   \n",
            "                                                                 \n",
            " flatten (Flatten)           (None, 10000)             0         \n",
            "                                                                 \n",
            " Fully_Connected (Dense)     (None, 200)               2000200   \n",
            "                                                                 \n",
            " Output (Dense)              (None, 25)                5025      \n",
            "                                                                 \n",
            "=================================================================\n",
            "Total params: 4,588,475\n",
            "Trainable params: 4,588,475\n",
            "Non-trainable params: 0\n",
            "_________________________________________________________________\n"
          ]
        }
      ],
      "source": [
        "import tensorflow as tf\n",
        "from tensorflow.keras.models import Sequential\n",
        "from tensorflow.keras.layers import Embedding, Flatten, Dense, Dropout, SpatialDropout1D, LSTM\n",
        "from keras.metrics import categorical_accuracy\n",
        "\n",
        "embedding_dim = 50 # taken 50 'features'\n",
        "vocab_size = len(tok.word_index) + 1\n",
        "\n",
        "# Allow algorithms to distinguish context and figure out what words are related to each other\n",
        "model = Sequential()\n",
        "model.add(Embedding(input_dim=vocab_size,\n",
        "                    output_dim=embedding_dim,\n",
        "                    input_length=maxlen))\n",
        "\n",
        "# Using back propagation method, our model will start learning\n",
        "model.add(Flatten())\n",
        "model.add(Dense(200, activation='relu', name = 'Fully_Connected'))\n",
        "model.add(Dense(25, activation='sigmoid', name = 'Output'))\n",
        "model.compile(optimizer=tf.keras.optimizers.Adam(lr = 1e-3),\n",
        "              loss='binary_crossentropy',\n",
        "              metrics=['categorical_accuracy'],\n",
        "              )\n",
        "\n",
        "model.summary()"
      ]
    },
    {
      "cell_type": "markdown",
      "metadata": {
        "id": "ur3HrfaYKAOh"
      },
      "source": [
        "### Fitting Model"
      ]
    },
    {
      "cell_type": "code",
      "execution_count": null,
      "metadata": {
        "colab": {
          "base_uri": "https://localhost:8080/"
        },
        "id": "JJMX2uJ0z-9G",
        "outputId": "412df3f4-a039-44e6-af4b-d272b496e0dd"
      },
      "outputs": [
        {
          "name": "stdout",
          "output_type": "stream",
          "text": [
            "Epoch 1/20\n",
            "44/44 [==============================] - 6s 115ms/step - loss: 0.2790 - categorical_accuracy: 0.1379 - val_loss: 0.1920 - val_categorical_accuracy: 0.1678 - lr: 0.0010\n",
            "Epoch 2/20\n",
            "44/44 [==============================] - 5s 109ms/step - loss: 0.1783 - categorical_accuracy: 0.2027 - val_loss: 0.1681 - val_categorical_accuracy: 0.2563 - lr: 0.0010\n",
            "Epoch 3/20\n",
            "44/44 [==============================] - 5s 109ms/step - loss: 0.1461 - categorical_accuracy: 0.3226 - val_loss: 0.1489 - val_categorical_accuracy: 0.3027 - lr: 0.0010\n",
            "Epoch 4/20\n",
            "44/44 [==============================] - 5s 109ms/step - loss: 0.1183 - categorical_accuracy: 0.4711 - val_loss: 0.1341 - val_categorical_accuracy: 0.3563 - lr: 0.0010\n",
            "Epoch 5/20\n",
            "44/44 [==============================] - 5s 110ms/step - loss: 0.0867 - categorical_accuracy: 0.6737 - val_loss: 0.1223 - val_categorical_accuracy: 0.4288 - lr: 0.0010\n",
            "Epoch 6/20\n",
            "44/44 [==============================] - 5s 109ms/step - loss: 0.0571 - categorical_accuracy: 0.7725 - val_loss: 0.1183 - val_categorical_accuracy: 0.4770 - lr: 0.0010\n",
            "Epoch 7/20\n",
            "44/44 [==============================] - 5s 109ms/step - loss: 0.0347 - categorical_accuracy: 0.8067 - val_loss: 0.1197 - val_categorical_accuracy: 0.4813 - lr: 0.0010\n",
            "Epoch 8/20\n",
            "44/44 [==============================] - 5s 109ms/step - loss: 0.0204 - categorical_accuracy: 0.8171 - val_loss: 0.1251 - val_categorical_accuracy: 0.4934 - lr: 0.0010\n",
            "Epoch 9/20\n",
            "44/44 [==============================] - 5s 110ms/step - loss: 0.0123 - categorical_accuracy: 0.8221 - val_loss: 0.1324 - val_categorical_accuracy: 0.5052 - lr: 0.0010\n",
            "Epoch 10/20\n",
            "44/44 [==============================] - 5s 108ms/step - loss: 0.0077 - categorical_accuracy: 0.8245 - val_loss: 0.1398 - val_categorical_accuracy: 0.5080 - lr: 0.0010\n",
            "Epoch 11/20\n",
            "44/44 [==============================] - 5s 109ms/step - loss: 0.0052 - categorical_accuracy: 0.8233 - val_loss: 0.1473 - val_categorical_accuracy: 0.5052 - lr: 0.0010\n",
            "Epoch 12/20\n",
            "44/44 [==============================] - 5s 109ms/step - loss: 0.0037 - categorical_accuracy: 0.8217 - val_loss: 0.1528 - val_categorical_accuracy: 0.5087 - lr: 0.0010\n",
            "Epoch 13/20\n",
            "44/44 [==============================] - 5s 109ms/step - loss: 0.0027 - categorical_accuracy: 0.8230 - val_loss: 0.1573 - val_categorical_accuracy: 0.5077 - lr: 0.0010\n",
            "Epoch 14/20\n",
            "44/44 [==============================] - 5s 110ms/step - loss: 0.0021 - categorical_accuracy: 0.8213 - val_loss: 0.1617 - val_categorical_accuracy: 0.5077 - lr: 0.0010\n",
            "Epoch 15/20\n",
            "44/44 [==============================] - 5s 109ms/step - loss: 0.0017 - categorical_accuracy: 0.8217 - val_loss: 0.1664 - val_categorical_accuracy: 0.5073 - lr: 0.0010\n",
            "Epoch 16/20\n",
            "44/44 [==============================] - 5s 109ms/step - loss: 0.0014 - categorical_accuracy: 0.8201 - val_loss: 0.1705 - val_categorical_accuracy: 0.5095 - lr: 0.0010\n",
            "Epoch 17/20\n",
            "44/44 [==============================] - 5s 109ms/step - loss: 0.0012 - categorical_accuracy: 0.8248 - val_loss: 0.1716 - val_categorical_accuracy: 0.5098 - lr: 1.0000e-04\n",
            "Epoch 18/20\n",
            "44/44 [==============================] - 5s 110ms/step - loss: 0.0012 - categorical_accuracy: 0.8221 - val_loss: 0.1724 - val_categorical_accuracy: 0.5087 - lr: 1.0000e-04\n",
            "Epoch 19/20\n",
            "44/44 [==============================] - 5s 109ms/step - loss: 0.0011 - categorical_accuracy: 0.8216 - val_loss: 0.1729 - val_categorical_accuracy: 0.5077 - lr: 1.0000e-04\n",
            "Epoch 20/20\n",
            "44/44 [==============================] - 5s 110ms/step - loss: 0.0011 - categorical_accuracy: 0.8216 - val_loss: 0.1733 - val_categorical_accuracy: 0.5087 - lr: 1.0000e-04\n"
          ]
        },
        {
          "data": {
            "text/plain": [
              "<keras.callbacks.History at 0x7fc28c5b0a90>"
            ]
          },
          "execution_count": 31,
          "metadata": {},
          "output_type": "execute_result"
        }
      ],
      "source": [
        "model.fit(X_trn, trn[TARGET_COLS], validation_data=(X_val, val[TARGET_COLS]), verbose=True, epochs=20, batch_size=256,\n",
        "          callbacks = [tf.keras.callbacks.ReduceLROnPlateau()])"
      ]
    },
    {
      "cell_type": "markdown",
      "metadata": {
        "id": "g4yeOC-0KIUP"
      },
      "source": [
        "### F1 Score , Precision and Recall\n",
        "\n",
        "\n",
        "*   F1 Score = 2*((precision*recall)/(precision+recall))\n",
        "*   Recall = True positive yes which means when it is yes, how many times it is actually yes\n",
        "*   Precision = If its yes, how often it's correct \n",
        "\n",
        "\n",
        "\n"
      ]
    },
    {
      "cell_type": "code",
      "execution_count": null,
      "metadata": {
        "colab": {
          "base_uri": "https://localhost:8080/"
        },
        "id": "Ppku3Zt60B_X",
        "outputId": "7fecb71d-14fa-4cb3-d79e-6fd19f99377e"
      },
      "outputs": [
        {
          "data": {
            "text/plain": [
              "0.5768793430195831"
            ]
          },
          "execution_count": 32,
          "metadata": {},
          "output_type": "execute_result"
        }
      ],
      "source": [
        "import numpy as np\n",
        "def get_best_thresholds(true, preds):\n",
        "  thresholds = [i/100 for i in range(100)]\n",
        "  best_thresholds = []\n",
        "  for idx in range(25):\n",
        "    f1_scores = [f1_score(true[:, idx], (preds[:, idx] > thresh) * 1) for thresh in thresholds]\n",
        "    best_thresh = thresholds[np.argmax(f1_scores)]\n",
        "    best_thresholds.append(best_thresh)\n",
        "  return best_thresholds\n",
        "\n",
        "val_preds = model.predict(X_val)\n",
        "best_thresholds = get_best_thresholds(val[TARGET_COLS].values, val_preds)\n",
        "for i, thresh in enumerate(best_thresholds):\n",
        "  val_preds[:, i] = (val_preds[:, i] > thresh) * 1\n",
        "f1_score(val[TARGET_COLS], val_preds, average='micro')"
      ]
    },
    {
      "cell_type": "markdown",
      "metadata": {
        "id": "FSUBDxb3LfnJ"
      },
      "source": [
        "### Saving the model"
      ]
    },
    {
      "cell_type": "code",
      "execution_count": null,
      "metadata": {
        "id": "UNJSqEA10sje"
      },
      "outputs": [],
      "source": [
        "model.save(\"NLP_word_embeddings.h5\")"
      ]
    },
    {
      "cell_type": "markdown",
      "metadata": {
        "id": "HxXzkWxR2Jf4"
      },
      "source": [
        "##End of Model"
      ]
    },
    {
      "cell_type": "markdown",
      "metadata": {
        "id": "NzNhVjXHLoi-"
      },
      "source": [
        "## Deployment in **FLASK**"
      ]
    },
    {
      "cell_type": "code",
      "execution_count": null,
      "metadata": {
        "id": "refTlOE40x8G"
      },
      "outputs": [],
      "source": [
        "from tensorflow.keras.models import load_model\n",
        "from keras.preprocessing.text import Tokenizer\n",
        "from keras.preprocessing.sequence import pad_sequences\n",
        "import pandas as pd\n",
        "import numpy as np"
      ]
    },
    {
      "cell_type": "code",
      "execution_count": null,
      "metadata": {
        "id": "Br0OQ6tx1XF4"
      },
      "outputs": [],
      "source": [
        "maxlen = 200\n",
        "#100000 is the max. no. of words to keep in the tokenized list\n",
        "tok = Tokenizer(num_words = 1000000) \n",
        "tok.fit_on_texts(train['ABSTRACT'].str.lower().tolist() + test['ABSTRACT'].str.lower().tolist())\n",
        "\n",
        "word_embedding_model = load_model(\"NLP_word_embeddings.h5\")\n",
        "\n",
        "demo_data1 = [\"\"\" hello world \"\"\"]\n",
        "\n",
        "\n",
        "demo_input = tok.texts_to_sequences(demo_data1)\n",
        "\n",
        "demo_input =  pad_sequences(demo_input, maxlen=maxlen)\n",
        "\n",
        "pred = word_embedding_model.predict(demo_input)"
      ]
    },
    {
      "cell_type": "code",
      "execution_count": null,
      "metadata": {
        "colab": {
          "base_uri": "https://localhost:8080/"
        },
        "id": "fEVCMBRM1a0_",
        "outputId": "43cb3f80-82ef-4dd0-a4ac-419c27632ae1"
      },
      "outputs": [
        {
          "name": "stdout",
          "output_type": "stream",
          "text": [
            "Number Theory\n",
            "0.059233814\n"
          ]
        }
      ],
      "source": [
        "print(TARGET_COLS[np.argmax(pred)]) #highest probabilty prediction\n",
        "print(pred[0,np.argmax(pred)])"
      ]
    },
    {
      "cell_type": "code",
      "execution_count": null,
      "metadata": {
        "id": "aNa_6z131ebk"
      },
      "outputs": [],
      "source": [
        "def test(text):\n",
        "  demo_input = tok.texts_to_sequences([text])\n",
        "  demo_input =  pad_sequences(demo_input, maxlen=maxlen)\n",
        "  pred = word_embedding_model.predict(demo_input)\n",
        "  # print(TARGET_COLS[np.argmax(pred)], pred[0,np.argmax(pred)])\n",
        "  data = {}\n",
        "  data['topic'] = TARGET_COLS[np.argmax(pred)]\n",
        "  data['confidence'] = str(pred[0,np.argmax(pred)])\n",
        "  return data"
      ]
    },
    {
      "cell_type": "code",
      "execution_count": null,
      "metadata": {
        "colab": {
          "base_uri": "https://localhost:8080/"
        },
        "id": "mcV12YK62V_y",
        "outputId": "9888c581-8e55-4201-dd18-4609c16d619e"
      },
      "outputs": [
        {
          "name": "stdout",
          "output_type": "stream",
          "text": [
            "Looking in indexes: https://pypi.org/simple, https://us-python.pkg.dev/colab-wheels/public/simple/\n",
            "Collecting flask-ngrok\n",
            "  Downloading flask_ngrok-0.0.25-py3-none-any.whl (3.1 kB)\n",
            "Requirement already satisfied: requests in /usr/local/lib/python3.7/dist-packages (from flask-ngrok) (2.23.0)\n",
            "Requirement already satisfied: Flask>=0.8 in /usr/local/lib/python3.7/dist-packages (from flask-ngrok) (1.1.4)\n",
            "Requirement already satisfied: click<8.0,>=5.1 in /usr/local/lib/python3.7/dist-packages (from Flask>=0.8->flask-ngrok) (7.1.2)\n",
            "Requirement already satisfied: itsdangerous<2.0,>=0.24 in /usr/local/lib/python3.7/dist-packages (from Flask>=0.8->flask-ngrok) (1.1.0)\n",
            "Requirement already satisfied: Werkzeug<2.0,>=0.15 in /usr/local/lib/python3.7/dist-packages (from Flask>=0.8->flask-ngrok) (1.0.1)\n",
            "Requirement already satisfied: Jinja2<3.0,>=2.10.1 in /usr/local/lib/python3.7/dist-packages (from Flask>=0.8->flask-ngrok) (2.11.3)\n",
            "Requirement already satisfied: MarkupSafe>=0.23 in /usr/local/lib/python3.7/dist-packages (from Jinja2<3.0,>=2.10.1->Flask>=0.8->flask-ngrok) (2.0.1)\n",
            "Requirement already satisfied: idna<3,>=2.5 in /usr/local/lib/python3.7/dist-packages (from requests->flask-ngrok) (2.10)\n",
            "Requirement already satisfied: urllib3!=1.25.0,!=1.25.1,<1.26,>=1.21.1 in /usr/local/lib/python3.7/dist-packages (from requests->flask-ngrok) (1.24.3)\n",
            "Requirement already satisfied: certifi>=2017.4.17 in /usr/local/lib/python3.7/dist-packages (from requests->flask-ngrok) (2022.6.15)\n",
            "Requirement already satisfied: chardet<4,>=3.0.2 in /usr/local/lib/python3.7/dist-packages (from requests->flask-ngrok) (3.0.4)\n",
            "Installing collected packages: flask-ngrok\n",
            "Successfully installed flask-ngrok-0.0.25\n"
          ]
        }
      ],
      "source": [
        "!pip install flask-ngrok"
      ]
    },
    {
      "cell_type": "code",
      "execution_count": null,
      "metadata": {
        "colab": {
          "base_uri": "https://localhost:8080/"
        },
        "id": "zDha_Vco2YJJ",
        "outputId": "8fb6af23-e0e9-47a5-f129-d25b80c63677"
      },
      "outputs": [
        {
          "name": "stdout",
          "output_type": "stream",
          "text": [
            "Looking in indexes: https://pypi.org/simple, https://us-python.pkg.dev/colab-wheels/public/simple/\n",
            "Collecting flask-cors\n",
            "  Downloading Flask_Cors-3.0.10-py2.py3-none-any.whl (14 kB)\n",
            "Requirement already satisfied: Flask>=0.9 in /usr/local/lib/python3.7/dist-packages (from flask-cors) (1.1.4)\n",
            "Requirement already satisfied: Six in /usr/local/lib/python3.7/dist-packages (from flask-cors) (1.15.0)\n",
            "Requirement already satisfied: click<8.0,>=5.1 in /usr/local/lib/python3.7/dist-packages (from Flask>=0.9->flask-cors) (7.1.2)\n",
            "Requirement already satisfied: Jinja2<3.0,>=2.10.1 in /usr/local/lib/python3.7/dist-packages (from Flask>=0.9->flask-cors) (2.11.3)\n",
            "Requirement already satisfied: itsdangerous<2.0,>=0.24 in /usr/local/lib/python3.7/dist-packages (from Flask>=0.9->flask-cors) (1.1.0)\n",
            "Requirement already satisfied: Werkzeug<2.0,>=0.15 in /usr/local/lib/python3.7/dist-packages (from Flask>=0.9->flask-cors) (1.0.1)\n",
            "Requirement already satisfied: MarkupSafe>=0.23 in /usr/local/lib/python3.7/dist-packages (from Jinja2<3.0,>=2.10.1->Flask>=0.9->flask-cors) (2.0.1)\n",
            "Installing collected packages: flask-cors\n",
            "Successfully installed flask-cors-3.0.10\n"
          ]
        }
      ],
      "source": [
        "! pip install -U flask-cors"
      ]
    },
    {
      "cell_type": "code",
      "execution_count": null,
      "metadata": {
        "colab": {
          "background_save": true,
          "base_uri": "https://localhost:8080/"
        },
        "id": "t8bAnwOC2bBt",
        "outputId": "f155846f-8525-40df-b4b2-9ca2e8af4b7a"
      },
      "outputs": [
        {
          "data": {
            "text/plain": [
              "<flask_cors.extension.CORS at 0x7fc28f43ab10>"
            ]
          },
          "execution_count": 40,
          "metadata": {},
          "output_type": "execute_result"
        },
        {
          "name": "stdout",
          "output_type": "stream",
          "text": [
            " * Serving Flask app \"__main__\" (lazy loading)\n",
            " * Environment: production\n",
            "\u001b[31m   WARNING: This is a development server. Do not use it in a production deployment.\u001b[0m\n",
            "\u001b[2m   Use a production WSGI server instead.\u001b[0m\n",
            " * Debug mode: off\n"
          ]
        },
        {
          "name": "stderr",
          "output_type": "stream",
          "text": [
            "INFO:werkzeug: * Running on http://127.0.0.1:5000/ (Press CTRL+C to quit)\n"
          ]
        },
        {
          "name": "stdout",
          "output_type": "stream",
          "text": [
            " * Running on http://cd5d-34-75-177-55.ngrok.io\n",
            " * Traffic stats available on http://127.0.0.1:4040\n"
          ]
        },
        {
          "name": "stderr",
          "output_type": "stream",
          "text": [
            "INFO:werkzeug:127.0.0.1 - - [25/Aug/2022 13:47:25] \"\u001b[37mPOST / HTTP/1.1\u001b[0m\" 200 -\n"
          ]
        },
        {
          "name": "stdout",
          "output_type": "stream",
          "text": [
            "{'topic': 'Machine Learning', 'confidence': '0.8903581'}\n"
          ]
        },
        {
          "name": "stderr",
          "output_type": "stream",
          "text": [
            "INFO:werkzeug:127.0.0.1 - - [25/Aug/2022 13:47:45] \"\u001b[37mPOST / HTTP/1.1\u001b[0m\" 200 -\n"
          ]
        },
        {
          "name": "stdout",
          "output_type": "stream",
          "text": [
            "{'topic': 'Computation and Language', 'confidence': '0.5558007'}\n"
          ]
        },
        {
          "name": "stderr",
          "output_type": "stream",
          "text": [
            "INFO:werkzeug:127.0.0.1 - - [25/Aug/2022 14:01:24] \"\u001b[37mPOST / HTTP/1.1\u001b[0m\" 200 -\n"
          ]
        },
        {
          "name": "stdout",
          "output_type": "stream",
          "text": [
            "{'topic': 'Computation and Language', 'confidence': '0.5558007'}\n"
          ]
        },
        {
          "name": "stderr",
          "output_type": "stream",
          "text": [
            "INFO:werkzeug:127.0.0.1 - - [25/Aug/2022 14:01:43] \"\u001b[37mPOST / HTTP/1.1\u001b[0m\" 200 -\n"
          ]
        },
        {
          "name": "stdout",
          "output_type": "stream",
          "text": [
            "{'topic': 'Cosmology and Nongalactic Astrophysics', 'confidence': '0.01485461'}\n"
          ]
        },
        {
          "name": "stderr",
          "output_type": "stream",
          "text": [
            "INFO:werkzeug:127.0.0.1 - - [25/Aug/2022 14:02:24] \"\u001b[37mPOST / HTTP/1.1\u001b[0m\" 200 -\n"
          ]
        },
        {
          "name": "stdout",
          "output_type": "stream",
          "text": [
            "{'topic': 'Systems and Control', 'confidence': '0.080346376'}\n"
          ]
        }
      ],
      "source": [
        "from flask_ngrok import run_with_ngrok\n",
        "from flask import Flask, redirect, url_for, request\n",
        "from flask_cors import CORS\n",
        "\n",
        "app = Flask(__name__)\n",
        "CORS(app)\n",
        "\n",
        "run_with_ngrok(app)\n",
        "@app.route('/', methods=['POST'])\n",
        "def login():\n",
        "  text = request.form['text']\n",
        "  data = test(text)\n",
        "  print(data);\n",
        "  return data\n",
        "\n",
        "if __name__ == '__main__':\n",
        "    app.run()"
      ]
    }
  ],
  "metadata": {
    "colab": {
      "collapsed_sections": [
        "cQotsAw5ZIUv",
        "R0md_yx0yrnH",
        "KUs_Odv6GWg5",
        "SA0MuURhG0UZ",
        "aFY8KtdHGvsD",
        "5MTRudLIHURF",
        "dJ0XInfBIM31",
        "ur3HrfaYKAOh",
        "g4yeOC-0KIUP",
        "FSUBDxb3LfnJ",
        "HxXzkWxR2Jf4",
        "NzNhVjXHLoi-"
      ],
      "provenance": []
    },
    "kernelspec": {
      "display_name": "Python 3",
      "name": "python3"
    },
    "language_info": {
      "name": "python"
    }
  },
  "nbformat": 4,
  "nbformat_minor": 0
}